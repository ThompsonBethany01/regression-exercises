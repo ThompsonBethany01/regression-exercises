{
 "cells": [
  {
   "cell_type": "markdown",
   "metadata": {},
   "source": [
    "# Evaluating simple linear regressions on lemonade data with other features:"
   ]
  },
  {
   "cell_type": "markdown",
   "metadata": {},
   "source": [
    "1. Create a dataframe from the csv at https://gist.githubusercontent.com/ryanorsinger/c303a90050d3192773288f7eea97b708/raw/536533b90bb2bf41cea27a2c96a63347cde082a6/lemonade.csv"
   ]
  },
  {
   "cell_type": "code",
   "execution_count": 1,
   "metadata": {},
   "outputs": [],
   "source": [
    "# python libraries\n",
    "import pandas as pd\n",
    "import numpy as np\n",
    "import matplotlib.pyplot as plt\n",
    "import seaborn as sns\n",
    "\n",
    "# creates model object\n",
    "from statsmodels.formula.api import ols\n",
    "\n",
    "# evaluation metrics\n",
    "from sklearn.metrics import mean_squared_error\n",
    "from math import sqrt"
   ]
  },
  {
   "cell_type": "code",
   "execution_count": 2,
   "metadata": {},
   "outputs": [
    {
     "data": {
      "text/html": [
       "<div>\n",
       "<style scoped>\n",
       "    .dataframe tbody tr th:only-of-type {\n",
       "        vertical-align: middle;\n",
       "    }\n",
       "\n",
       "    .dataframe tbody tr th {\n",
       "        vertical-align: top;\n",
       "    }\n",
       "\n",
       "    .dataframe thead th {\n",
       "        text-align: right;\n",
       "    }\n",
       "</style>\n",
       "<table border=\"1\" class=\"dataframe\">\n",
       "  <thead>\n",
       "    <tr style=\"text-align: right;\">\n",
       "      <th></th>\n",
       "      <th>temperature</th>\n",
       "      <th>rainfall</th>\n",
       "      <th>flyers</th>\n",
       "      <th>sales</th>\n",
       "    </tr>\n",
       "  </thead>\n",
       "  <tbody>\n",
       "    <tr>\n",
       "      <th>0</th>\n",
       "      <td>27.0</td>\n",
       "      <td>2.00</td>\n",
       "      <td>15</td>\n",
       "      <td>10</td>\n",
       "    </tr>\n",
       "    <tr>\n",
       "      <th>1</th>\n",
       "      <td>28.9</td>\n",
       "      <td>1.33</td>\n",
       "      <td>15</td>\n",
       "      <td>13</td>\n",
       "    </tr>\n",
       "    <tr>\n",
       "      <th>2</th>\n",
       "      <td>34.5</td>\n",
       "      <td>1.33</td>\n",
       "      <td>27</td>\n",
       "      <td>15</td>\n",
       "    </tr>\n",
       "    <tr>\n",
       "      <th>3</th>\n",
       "      <td>44.1</td>\n",
       "      <td>1.05</td>\n",
       "      <td>28</td>\n",
       "      <td>17</td>\n",
       "    </tr>\n",
       "    <tr>\n",
       "      <th>4</th>\n",
       "      <td>42.4</td>\n",
       "      <td>1.00</td>\n",
       "      <td>33</td>\n",
       "      <td>18</td>\n",
       "    </tr>\n",
       "  </tbody>\n",
       "</table>\n",
       "</div>"
      ],
      "text/plain": [
       "   temperature  rainfall  flyers  sales\n",
       "0         27.0      2.00      15     10\n",
       "1         28.9      1.33      15     13\n",
       "2         34.5      1.33      27     15\n",
       "3         44.1      1.05      28     17\n",
       "4         42.4      1.00      33     18"
      ]
     },
     "execution_count": 2,
     "metadata": {},
     "output_type": "execute_result"
    }
   ],
   "source": [
    "df = pd.read_csv(\"https://gist.githubusercontent.com/ryanorsinger/9867c96ddb56626e9aac94d8e92dabdf/raw/45f9a36a8871ac0e24317704ed0072c9dded1327/lemonade_regression.csv\")\n",
    "df.head()"
   ]
  },
  {
   "cell_type": "code",
   "execution_count": 3,
   "metadata": {},
   "outputs": [
    {
     "data": {
      "text/plain": [
       "(array([ 3., 23., 27., 49., 52., 90., 71., 27., 13., 10.]),\n",
       " array([ 7. , 10.6, 14.2, 17.8, 21.4, 25. , 28.6, 32.2, 35.8, 39.4, 43. ]),\n",
       " <a list of 10 Patch objects>)"
      ]
     },
     "execution_count": 3,
     "metadata": {},
     "output_type": "execute_result"
    },
    {
     "data": {
      "image/png": "[encoded data removed]",
      "text/plain": [
       "<Figure size 432x288 with 1 Axes>"
      ]
     },
     "metadata": {
      "needs_background": "light"
     },
     "output_type": "display_data"
    }
   ],
   "source": [
    "plt.hist(df.sales)"
   ]
  },
  {
   "cell_type": "code",
   "execution_count": 4,
   "metadata": {},
   "outputs": [
    {
     "data": {
      "text/plain": [
       "Text(0.5, 1.0, 'Distribution of Flyers')"
      ]
     },
     "execution_count": 4,
     "metadata": {},
     "output_type": "execute_result"
    },
    {
     "data": {
      "image/png": "[encoded data removed]",
      "text/plain": [
       "<Figure size 432x288 with 1 Axes>"
      ]
     },
     "metadata": {
      "needs_background": "light"
     },
     "output_type": "display_data"
    }
   ],
   "source": [
    "# Taking a look at flyers\n",
    "plt.hist(df.flyers)\n",
    "plt.title('Distribution of Flyers')"
   ]
  },
  {
   "cell_type": "markdown",
   "metadata": {},
   "source": [
    "2. Make a baseline for predicting sales. (The mean is a good baseline)"
   ]
  },
  {
   "cell_type": "code",
   "execution_count": 5,
   "metadata": {},
   "outputs": [],
   "source": [
    "# First - establish a baseline. \n",
    "# Sales are reasonably normally distributed, we can use the mean\n",
    "baseline = df.sales.mean()"
   ]
  },
  {
   "cell_type": "markdown",
   "metadata": {},
   "source": [
    "3. Create a new dataframe to hold residuals."
   ]
  },
  {
   "cell_type": "markdown",
   "metadata": {},
   "source": [
    "- Our x is the independent feature, y is what we want to predict\n",
    "- yhat is what our model predicts"
   ]
  },
  {
   "cell_type": "code",
   "execution_count": 6,
   "metadata": {},
   "outputs": [
    {
     "data": {
      "text/html": [
       "<div>\n",
       "<style scoped>\n",
       "    .dataframe tbody tr th:only-of-type {\n",
       "        vertical-align: middle;\n",
       "    }\n",
       "\n",
       "    .dataframe tbody tr th {\n",
       "        vertical-align: top;\n",
       "    }\n",
       "\n",
       "    .dataframe thead th {\n",
       "        text-align: right;\n",
       "    }\n",
       "</style>\n",
       "<table border=\"1\" class=\"dataframe\">\n",
       "  <thead>\n",
       "    <tr style=\"text-align: right;\">\n",
       "      <th></th>\n",
       "      <th>x</th>\n",
       "      <th>y</th>\n",
       "      <th>baseline</th>\n",
       "    </tr>\n",
       "  </thead>\n",
       "  <tbody>\n",
       "    <tr>\n",
       "      <th>0</th>\n",
       "      <td>27.0</td>\n",
       "      <td>10</td>\n",
       "      <td>25.323288</td>\n",
       "    </tr>\n",
       "    <tr>\n",
       "      <th>1</th>\n",
       "      <td>28.9</td>\n",
       "      <td>13</td>\n",
       "      <td>25.323288</td>\n",
       "    </tr>\n",
       "    <tr>\n",
       "      <th>2</th>\n",
       "      <td>34.5</td>\n",
       "      <td>15</td>\n",
       "      <td>25.323288</td>\n",
       "    </tr>\n",
       "    <tr>\n",
       "      <th>3</th>\n",
       "      <td>44.1</td>\n",
       "      <td>17</td>\n",
       "      <td>25.323288</td>\n",
       "    </tr>\n",
       "    <tr>\n",
       "      <th>4</th>\n",
       "      <td>42.4</td>\n",
       "      <td>18</td>\n",
       "      <td>25.323288</td>\n",
       "    </tr>\n",
       "  </tbody>\n",
       "</table>\n",
       "</div>"
      ],
      "text/plain": [
       "      x   y   baseline\n",
       "0  27.0  10  25.323288\n",
       "1  28.9  13  25.323288\n",
       "2  34.5  15  25.323288\n",
       "3  44.1  17  25.323288\n",
       "4  42.4  18  25.323288"
      ]
     },
     "execution_count": 6,
     "metadata": {},
     "output_type": "execute_result"
    }
   ],
   "source": [
    "residuals = pd.DataFrame()\n",
    "residuals['x'] = df.temperature\n",
    "residuals['y'] = df.sales\n",
    "residuals['baseline'] = baseline\n",
    "residuals.head(5)"
   ]
  },
  {
   "cell_type": "markdown",
   "metadata": {},
   "source": [
    "4. Calculate the baseline residuals."
   ]
  },
  {
   "cell_type": "code",
   "execution_count": 7,
   "metadata": {},
   "outputs": [
    {
     "data": {
      "text/html": [
       "<div>\n",
       "<style scoped>\n",
       "    .dataframe tbody tr th:only-of-type {\n",
       "        vertical-align: middle;\n",
       "    }\n",
       "\n",
       "    .dataframe tbody tr th {\n",
       "        vertical-align: top;\n",
       "    }\n",
       "\n",
       "    .dataframe thead th {\n",
       "        text-align: right;\n",
       "    }\n",
       "</style>\n",
       "<table border=\"1\" class=\"dataframe\">\n",
       "  <thead>\n",
       "    <tr style=\"text-align: right;\">\n",
       "      <th></th>\n",
       "      <th>x</th>\n",
       "      <th>y</th>\n",
       "      <th>baseline</th>\n",
       "      <th>baseline_residual</th>\n",
       "    </tr>\n",
       "  </thead>\n",
       "  <tbody>\n",
       "    <tr>\n",
       "      <th>0</th>\n",
       "      <td>27.0</td>\n",
       "      <td>10</td>\n",
       "      <td>25.323288</td>\n",
       "      <td>15.323288</td>\n",
       "    </tr>\n",
       "    <tr>\n",
       "      <th>1</th>\n",
       "      <td>28.9</td>\n",
       "      <td>13</td>\n",
       "      <td>25.323288</td>\n",
       "      <td>12.323288</td>\n",
       "    </tr>\n",
       "    <tr>\n",
       "      <th>2</th>\n",
       "      <td>34.5</td>\n",
       "      <td>15</td>\n",
       "      <td>25.323288</td>\n",
       "      <td>10.323288</td>\n",
       "    </tr>\n",
       "    <tr>\n",
       "      <th>3</th>\n",
       "      <td>44.1</td>\n",
       "      <td>17</td>\n",
       "      <td>25.323288</td>\n",
       "      <td>8.323288</td>\n",
       "    </tr>\n",
       "    <tr>\n",
       "      <th>4</th>\n",
       "      <td>42.4</td>\n",
       "      <td>18</td>\n",
       "      <td>25.323288</td>\n",
       "      <td>7.323288</td>\n",
       "    </tr>\n",
       "  </tbody>\n",
       "</table>\n",
       "</div>"
      ],
      "text/plain": [
       "      x   y   baseline  baseline_residual\n",
       "0  27.0  10  25.323288          15.323288\n",
       "1  28.9  13  25.323288          12.323288\n",
       "2  34.5  15  25.323288          10.323288\n",
       "3  44.1  17  25.323288           8.323288\n",
       "4  42.4  18  25.323288           7.323288"
      ]
     },
     "execution_count": 7,
     "metadata": {},
     "output_type": "execute_result"
    }
   ],
   "source": [
    "residuals['baseline_residual'] = residuals.baseline - residuals.y\n",
    "residuals.head()"
   ]
  },
  {
   "cell_type": "markdown",
   "metadata": {},
   "source": [
    "5. Use ols from statsmodels to create a simple linear regression (1 independent variable, 1 dependent variable) to predict sales using flyers.\n",
    "\n",
    "        - the df variable is lemonade data\n",
    "        - model = ols('sales ~ flyers', data=df).fit()\n",
    "        - predictions = model.predict(df.x)"
   ]
  },
  {
   "cell_type": "code",
   "execution_count": 8,
   "metadata": {},
   "outputs": [],
   "source": [
    "# Going to try with temp instead of sales\n",
    "# The arguments to the ols function are the column names as strings, separated by ~\n",
    "# ols(\"y ~ x\") \n",
    "model = ols('sales ~ flyers', df).fit()"
   ]
  },
  {
   "cell_type": "markdown",
   "metadata": {},
   "source": [
    "1. Use the .predict method from ols to produce all of our predictions. Add these predictions to the data"
   ]
  },
  {
   "cell_type": "code",
   "execution_count": 9,
   "metadata": {},
   "outputs": [],
   "source": [
    "# creates prediction based on x\n",
    "residuals['y_hat'] = model.predict()"
   ]
  },
  {
   "cell_type": "markdown",
   "metadata": {},
   "source": [
    "2. Calculate that model's residuals."
   ]
  },
  {
   "cell_type": "code",
   "execution_count": 10,
   "metadata": {},
   "outputs": [
    {
     "data": {
      "text/html": [
       "<div>\n",
       "<style scoped>\n",
       "    .dataframe tbody tr th:only-of-type {\n",
       "        vertical-align: middle;\n",
       "    }\n",
       "\n",
       "    .dataframe tbody tr th {\n",
       "        vertical-align: top;\n",
       "    }\n",
       "\n",
       "    .dataframe thead th {\n",
       "        text-align: right;\n",
       "    }\n",
       "</style>\n",
       "<table border=\"1\" class=\"dataframe\">\n",
       "  <thead>\n",
       "    <tr style=\"text-align: right;\">\n",
       "      <th></th>\n",
       "      <th>x</th>\n",
       "      <th>y</th>\n",
       "      <th>baseline</th>\n",
       "      <th>baseline_residual</th>\n",
       "      <th>y_hat</th>\n",
       "      <th>model_residual</th>\n",
       "    </tr>\n",
       "  </thead>\n",
       "  <tbody>\n",
       "    <tr>\n",
       "      <th>0</th>\n",
       "      <td>27.0</td>\n",
       "      <td>10</td>\n",
       "      <td>25.323288</td>\n",
       "      <td>15.323288</td>\n",
       "      <td>14.673754</td>\n",
       "      <td>4.673754</td>\n",
       "    </tr>\n",
       "    <tr>\n",
       "      <th>1</th>\n",
       "      <td>28.9</td>\n",
       "      <td>13</td>\n",
       "      <td>25.323288</td>\n",
       "      <td>12.323288</td>\n",
       "      <td>14.673754</td>\n",
       "      <td>1.673754</td>\n",
       "    </tr>\n",
       "    <tr>\n",
       "      <th>2</th>\n",
       "      <td>34.5</td>\n",
       "      <td>15</td>\n",
       "      <td>25.323288</td>\n",
       "      <td>10.323288</td>\n",
       "      <td>19.727926</td>\n",
       "      <td>4.727926</td>\n",
       "    </tr>\n",
       "    <tr>\n",
       "      <th>3</th>\n",
       "      <td>44.1</td>\n",
       "      <td>17</td>\n",
       "      <td>25.323288</td>\n",
       "      <td>8.323288</td>\n",
       "      <td>20.149107</td>\n",
       "      <td>3.149107</td>\n",
       "    </tr>\n",
       "    <tr>\n",
       "      <th>4</th>\n",
       "      <td>42.4</td>\n",
       "      <td>18</td>\n",
       "      <td>25.323288</td>\n",
       "      <td>7.323288</td>\n",
       "      <td>22.255013</td>\n",
       "      <td>4.255013</td>\n",
       "    </tr>\n",
       "  </tbody>\n",
       "</table>\n",
       "</div>"
      ],
      "text/plain": [
       "      x   y   baseline  baseline_residual      y_hat  model_residual\n",
       "0  27.0  10  25.323288          15.323288  14.673754        4.673754\n",
       "1  28.9  13  25.323288          12.323288  14.673754        1.673754\n",
       "2  34.5  15  25.323288          10.323288  19.727926        4.727926\n",
       "3  44.1  17  25.323288           8.323288  20.149107        3.149107\n",
       "4  42.4  18  25.323288           7.323288  22.255013        4.255013"
      ]
     },
     "execution_count": 10,
     "metadata": {},
     "output_type": "execute_result"
    }
   ],
   "source": [
    "# calculates residual of model\n",
    "residuals['model_residual'] = residuals.y_hat - residuals.y\n",
    "\n",
    "residuals.head()"
   ]
  },
  {
   "cell_type": "markdown",
   "metadata": {},
   "source": [
    "3. Evaluate that model's performance and answer if the model is significant."
   ]
  },
  {
   "cell_type": "code",
   "execution_count": 11,
   "metadata": {},
   "outputs": [
    {
     "name": "stdout",
     "output_type": "stream",
     "text": [
      "Our model beats the baseline! We can continue to evaluate.\n"
     ]
    }
   ],
   "source": [
    "def sum_squared_errors(df):\n",
    "    \n",
    "    # calculates sum of squared errors for baseline and model\n",
    "    baseline_sse = ((df.baseline_residual)**2).sum()\n",
    "    model_sse = ((df.model_residual)**2).sum()\n",
    "    \n",
    "    #print statement for whichever one is more accurate\n",
    "    if baseline_sse > model_sse:\n",
    "        print(\"Our model beats the baseline! We can continue to evaluate.\")\n",
    "    else:\n",
    "        print(\"Dag-nabbit! The baseline beat our model!\")\n",
    "        \n",
    "    # returns the value\n",
    "    return baseline_sse, model_sse\n",
    "\n",
    "baseline_sse, model_sse = sum_squared_errors(residuals)"
   ]
  },
  {
   "cell_type": "markdown",
   "metadata": {},
   "source": [
    "4. Evaluate that model's performance and answer if the feature is significant."
   ]
  },
  {
   "cell_type": "code",
   "execution_count": 12,
   "metadata": {},
   "outputs": [
    {
     "name": "stdout",
     "output_type": "stream",
     "text": [
      "SSE - The models sum of squared errors is: 6083.326\n",
      "MSE - The mean of squared errors is: 16.667\n",
      "RMSE - The square root of the mean of squared errors is: 4.082\n"
     ]
    }
   ],
   "source": [
    "print('SSE - The models sum of squared errors is:', round(model_sse, 3))\n",
    "print('MSE - The mean of squared errors is:', round(model_sse/len(df.sales), 3))\n",
    "print('RMSE - The square root of the mean of squared errors is:', round(sqrt(model_sse/len(df.sales)), 3))"
   ]
  },
  {
   "cell_type": "markdown",
   "metadata": {},
   "source": [
    "$R^2$ tells you how well your model fits the data by measuring the strength of the relationship between your model and the dependent variable. However, it is not a formal test for the relationship. The F-test of overall significance is the hypothesis test for this relationship. It indicates whether your linear regression model provides a better fit to the data than a model that contains no independent variables.\n",
    "\n",
    "If the overall F-test is significant (evident through the p-value of the F statistic), you can conclude that $R^2$ does not equal zero, and the correlation between the model and dependent variable is statistically significant."
   ]
  },
  {
   "cell_type": "code",
   "execution_count": 13,
   "metadata": {},
   "outputs": [
    {
     "name": "stdout",
     "output_type": "stream",
     "text": [
      "R-squared =  0.648\n"
     ]
    }
   ],
   "source": [
    "# calculate r squared first\n",
    "r2 = model.rsquared\n",
    "print('R-squared = ', round(r2,3))"
   ]
  },
  {
   "cell_type": "code",
   "execution_count": 14,
   "metadata": {},
   "outputs": [
    {
     "name": "stdout",
     "output_type": "stream",
     "text": [
      "p-value for model significance =  2.193718738113383e-84\n"
     ]
    }
   ],
   "source": [
    "# if p is low, we reject the null (aka reject that the feature is not significant)\n",
    "f_pval = model.f_pvalue\n",
    "print(\"p-value for model significance = \", f_pval)"
   ]
  },
  {
   "cell_type": "code",
   "execution_count": 15,
   "metadata": {},
   "outputs": [
    {
     "data": {
      "text/html": [
       "<div>\n",
       "<style scoped>\n",
       "    .dataframe tbody tr th:only-of-type {\n",
       "        vertical-align: middle;\n",
       "    }\n",
       "\n",
       "    .dataframe tbody tr th {\n",
       "        vertical-align: top;\n",
       "    }\n",
       "\n",
       "    .dataframe thead th {\n",
       "        text-align: right;\n",
       "    }\n",
       "</style>\n",
       "<table border=\"1\" class=\"dataframe\">\n",
       "  <thead>\n",
       "    <tr style=\"text-align: right;\">\n",
       "      <th></th>\n",
       "      <th>Model_1</th>\n",
       "      <th>Model_2</th>\n",
       "      <th>Model_3</th>\n",
       "      <th>Model_4</th>\n",
       "    </tr>\n",
       "  </thead>\n",
       "  <tbody>\n",
       "    <tr>\n",
       "      <th>SSE</th>\n",
       "      <td>6083.326</td>\n",
       "      <td>NaN</td>\n",
       "      <td>NaN</td>\n",
       "      <td>NaN</td>\n",
       "    </tr>\n",
       "    <tr>\n",
       "      <th>MSE</th>\n",
       "      <td>16.667</td>\n",
       "      <td>NaN</td>\n",
       "      <td>NaN</td>\n",
       "      <td>NaN</td>\n",
       "    </tr>\n",
       "    <tr>\n",
       "      <th>RMSE</th>\n",
       "      <td>4.082</td>\n",
       "      <td>NaN</td>\n",
       "      <td>NaN</td>\n",
       "      <td>NaN</td>\n",
       "    </tr>\n",
       "  </tbody>\n",
       "</table>\n",
       "</div>"
      ],
      "text/plain": [
       "       Model_1 Model_2 Model_3 Model_4\n",
       "SSE   6083.326     NaN     NaN     NaN\n",
       "MSE     16.667     NaN     NaN     NaN\n",
       "RMSE     4.082     NaN     NaN     NaN"
      ]
     },
     "execution_count": 15,
     "metadata": {},
     "output_type": "execute_result"
    }
   ],
   "source": [
    "# creating a DF to hold these values for each model\n",
    "models = pd.DataFrame(columns=['Model_1','Model_2','Model_3','Model_4'], index=['SSE','MSE','RMSE'])\n",
    "models['Model_1'] = [round(model_sse, 3), round(model_sse/len(df.sales), 3), round(sqrt(model_sse/len(df.sales)), 3)]\n",
    "models.head()"
   ]
  },
  {
   "cell_type": "code",
   "execution_count": 16,
   "metadata": {},
   "outputs": [],
   "source": [
    "# function to plot the model and baseline residuals\n",
    "def plot_residuals(actual, baseline, predicted):\n",
    "    \n",
    "    residuals = actual - predicted\n",
    "    base_residuals = baseline - predicted\n",
    "    \n",
    "    plt.figure(figsize=(20,9))\n",
    "    \n",
    "    plt.subplot(121)\n",
    "    plt.hlines(0, actual.min(), actual.max(), ls=':')\n",
    "    plt.scatter(actual, residuals)\n",
    "    plt.ylim(-5,5)\n",
    "    plt.ylabel('residual ($model_y - \\hat{y}$)')\n",
    "    plt.xlabel('actual value ($y$)')\n",
    "    plt.title('Actual vs Model Residual')\n",
    "    \n",
    "    plt.subplot(122)\n",
    "    plt.hlines(0, actual.min(), actual.max(), ls=':')\n",
    "    plt.scatter(actual, base_residuals)\n",
    "    plt.ylim(-5,5)\n",
    "    plt.ylabel('residual ($baseline_y - \\hat{y}$)')\n",
    "    plt.xlabel('actual value ($y$)')\n",
    "    plt.title('Actual vs Baseline Residual')\n",
    "    \n",
    "    return plt.gca()"
   ]
  },
  {
   "cell_type": "code",
   "execution_count": 17,
   "metadata": {},
   "outputs": [
    {
     "data": {
      "text/plain": [
       "<matplotlib.axes._subplots.AxesSubplot at 0x7f92094b7450>"
      ]
     },
     "execution_count": 17,
     "metadata": {},
     "output_type": "execute_result"
    },
    {
     "data": {
      "image/png": "[encoded data removed]",
      "text/plain": [
       "<Figure size 1440x648 with 2 Axes>"
      ]
     },
     "metadata": {
      "needs_background": "light"
     },
     "output_type": "display_data"
    }
   ],
   "source": [
    "plot_residuals(residuals.y, residuals.baseline, residuals.y_hat)"
   ]
  },
  {
   "cell_type": "markdown",
   "metadata": {},
   "source": [
    "# Repetition Improves Performance!\n",
    "- In the next section of your notebook, perform the steps above with the rainfall column as the model's feature. Does this model beat the baseline? Would you prefer the rainfall model over the flyers model?"
   ]
  },
  {
   "cell_type": "code",
   "execution_count": 18,
   "metadata": {},
   "outputs": [
    {
     "data": {
      "text/plain": [
       "Text(0.5, 1.0, 'Distribution of Rainfall')"
      ]
     },
     "execution_count": 18,
     "metadata": {},
     "output_type": "execute_result"
    },
    {
     "data": {
      "image/png": "[encoded data removed]",
      "text/plain": [
       "<Figure size 432x288 with 1 Axes>"
      ]
     },
     "metadata": {
      "needs_background": "light"
     },
     "output_type": "display_data"
    }
   ],
   "source": [
    "# taking a look at the feature used to predict\n",
    "plt.hist(df.rainfall)\n",
    "plt.title('Distribution of Rainfall')"
   ]
  },
  {
   "cell_type": "code",
   "execution_count": 19,
   "metadata": {},
   "outputs": [
    {
     "data": {
      "text/html": [
       "<div>\n",
       "<style scoped>\n",
       "    .dataframe tbody tr th:only-of-type {\n",
       "        vertical-align: middle;\n",
       "    }\n",
       "\n",
       "    .dataframe tbody tr th {\n",
       "        vertical-align: top;\n",
       "    }\n",
       "\n",
       "    .dataframe thead th {\n",
       "        text-align: right;\n",
       "    }\n",
       "</style>\n",
       "<table border=\"1\" class=\"dataframe\">\n",
       "  <thead>\n",
       "    <tr style=\"text-align: right;\">\n",
       "      <th></th>\n",
       "      <th>x</th>\n",
       "      <th>y</th>\n",
       "      <th>baseline</th>\n",
       "      <th>baseline_residual</th>\n",
       "      <th>y_hat</th>\n",
       "      <th>model_residual</th>\n",
       "    </tr>\n",
       "  </thead>\n",
       "  <tbody>\n",
       "    <tr>\n",
       "      <th>0</th>\n",
       "      <td>2.00</td>\n",
       "      <td>10</td>\n",
       "      <td>25.323288</td>\n",
       "      <td>15.323288</td>\n",
       "      <td>-1.599602</td>\n",
       "      <td>-11.599602</td>\n",
       "    </tr>\n",
       "    <tr>\n",
       "      <th>1</th>\n",
       "      <td>1.33</td>\n",
       "      <td>13</td>\n",
       "      <td>25.323288</td>\n",
       "      <td>12.323288</td>\n",
       "      <td>13.773142</td>\n",
       "      <td>0.773142</td>\n",
       "    </tr>\n",
       "    <tr>\n",
       "      <th>2</th>\n",
       "      <td>1.33</td>\n",
       "      <td>15</td>\n",
       "      <td>25.323288</td>\n",
       "      <td>10.323288</td>\n",
       "      <td>13.773142</td>\n",
       "      <td>-1.226858</td>\n",
       "    </tr>\n",
       "    <tr>\n",
       "      <th>3</th>\n",
       "      <td>1.05</td>\n",
       "      <td>17</td>\n",
       "      <td>25.323288</td>\n",
       "      <td>8.323288</td>\n",
       "      <td>20.197573</td>\n",
       "      <td>3.197573</td>\n",
       "    </tr>\n",
       "    <tr>\n",
       "      <th>4</th>\n",
       "      <td>1.00</td>\n",
       "      <td>18</td>\n",
       "      <td>25.323288</td>\n",
       "      <td>7.323288</td>\n",
       "      <td>21.344793</td>\n",
       "      <td>3.344793</td>\n",
       "    </tr>\n",
       "  </tbody>\n",
       "</table>\n",
       "</div>"
      ],
      "text/plain": [
       "      x   y   baseline  baseline_residual      y_hat  model_residual\n",
       "0  2.00  10  25.323288          15.323288  -1.599602      -11.599602\n",
       "1  1.33  13  25.323288          12.323288  13.773142        0.773142\n",
       "2  1.33  15  25.323288          10.323288  13.773142       -1.226858\n",
       "3  1.05  17  25.323288           8.323288  20.197573        3.197573\n",
       "4  1.00  18  25.323288           7.323288  21.344793        3.344793"
      ]
     },
     "execution_count": 19,
     "metadata": {},
     "output_type": "execute_result"
    }
   ],
   "source": [
    "# First - establish a baseline. \n",
    "# Sales is normally distributed, so the average\n",
    "baseline = df.sales.mean()\n",
    "\n",
    "# crating empty df to hold actual, predicted, residuals\n",
    "rain_residuals = pd.DataFrame()\n",
    "\n",
    "# adding x and y\n",
    "rain_residuals['x'] = df.rainfall\n",
    "rain_residuals['y'] = df.sales\n",
    "\n",
    "# adding baseline prediction of mode .77\n",
    "rain_residuals['baseline'] = baseline\n",
    "\n",
    "# calculating baseline residuals\n",
    "rain_residuals['baseline_residual'] = rain_residuals.baseline - rain_residuals.y\n",
    "\n",
    "# creating model for rainfall predicting sales\n",
    "model = ols('sales ~ rainfall', df).fit()\n",
    "\n",
    "# creates prediction (sales) based on x (rainfall)\n",
    "rain_residuals['y_hat'] = model.predict()\n",
    "\n",
    "# calculates residual of model\n",
    "rain_residuals['model_residual'] = rain_residuals.y_hat - rain_residuals.y\n",
    "\n",
    "\n",
    "rain_residuals.head(5)"
   ]
  },
  {
   "cell_type": "code",
   "execution_count": 20,
   "metadata": {},
   "outputs": [
    {
     "name": "stdout",
     "output_type": "stream",
     "text": [
      "Our model beats the baseline! We can continue to evaluate.\n",
      "\n",
      "Baseline\n",
      "SSE - The baselines sum of squared errors is: 17297.852\n",
      "MSE - The mean of squared errors is: 47.391\n",
      "RMSE - The square root of the mean of squared errors is: 6.884\n",
      "\n",
      "Model\n",
      "SSE - The models sum of squared errors is: 2998.237\n",
      "MSE - The mean of squared errors is: 8.214\n",
      "RMSE - The square root of the mean of squared errors is: 2.866\n",
      "\n",
      "R-squared =  0.827\n",
      "p-value for model significance =  3.2988846597381e-140\n",
      "The model is significant!\n"
     ]
    }
   ],
   "source": [
    "baseline_sse, model_sse = sum_squared_errors(rain_residuals)\n",
    "\n",
    "print('\\nBaseline')\n",
    "print('SSE - The baselines sum of squared errors is:', round(baseline_sse, 3))\n",
    "print('MSE - The mean of squared errors is:', round(baseline_sse/len(df.sales), 3))\n",
    "print('RMSE - The square root of the mean of squared errors is:', round(sqrt(baseline_sse/len(df.sales)), 3))\n",
    "\n",
    "print('\\nModel')\n",
    "print('SSE - The models sum of squared errors is:', round(model_sse, 3))\n",
    "print('MSE - The mean of squared errors is:', round(model_sse/len(df.sales), 3))\n",
    "print('RMSE - The square root of the mean of squared errors is:', round(sqrt(model_sse/len(df.sales)), 3))\n",
    "\n",
    "# calculate r squared first\n",
    "r2 = model.rsquared\n",
    "print('\\nR-squared = ', round(r2,3))\n",
    "\n",
    "# if p is low, we reject the null (aka reject that the feature is not significant)\n",
    "f_pval = model.f_pvalue\n",
    "print(\"p-value for model significance = \", f_pval)\n",
    "print(\"The model is significant!\")"
   ]
  },
  {
   "cell_type": "code",
   "execution_count": 21,
   "metadata": {},
   "outputs": [
    {
     "data": {
      "text/html": [
       "<div>\n",
       "<style scoped>\n",
       "    .dataframe tbody tr th:only-of-type {\n",
       "        vertical-align: middle;\n",
       "    }\n",
       "\n",
       "    .dataframe tbody tr th {\n",
       "        vertical-align: top;\n",
       "    }\n",
       "\n",
       "    .dataframe thead th {\n",
       "        text-align: right;\n",
       "    }\n",
       "</style>\n",
       "<table border=\"1\" class=\"dataframe\">\n",
       "  <thead>\n",
       "    <tr style=\"text-align: right;\">\n",
       "      <th></th>\n",
       "      <th>Model_1</th>\n",
       "      <th>Model_2</th>\n",
       "      <th>Model_3</th>\n",
       "      <th>Model_4</th>\n",
       "    </tr>\n",
       "  </thead>\n",
       "  <tbody>\n",
       "    <tr>\n",
       "      <th>SSE</th>\n",
       "      <td>6083.326</td>\n",
       "      <td>2998.237</td>\n",
       "      <td>NaN</td>\n",
       "      <td>NaN</td>\n",
       "    </tr>\n",
       "    <tr>\n",
       "      <th>MSE</th>\n",
       "      <td>16.667</td>\n",
       "      <td>8.214</td>\n",
       "      <td>NaN</td>\n",
       "      <td>NaN</td>\n",
       "    </tr>\n",
       "    <tr>\n",
       "      <th>RMSE</th>\n",
       "      <td>4.082</td>\n",
       "      <td>2.866</td>\n",
       "      <td>NaN</td>\n",
       "      <td>NaN</td>\n",
       "    </tr>\n",
       "  </tbody>\n",
       "</table>\n",
       "</div>"
      ],
      "text/plain": [
       "       Model_1   Model_2 Model_3 Model_4\n",
       "SSE   6083.326  2998.237     NaN     NaN\n",
       "MSE     16.667     8.214     NaN     NaN\n",
       "RMSE     4.082     2.866     NaN     NaN"
      ]
     },
     "execution_count": 21,
     "metadata": {},
     "output_type": "execute_result"
    }
   ],
   "source": [
    "# creating a DF to hold these values for each model\n",
    "models['Model_2'] = [round(model_sse, 3), round(model_sse/len(df.sales), 3), round(sqrt(model_sse/len(df.sales)), 3)]\n",
    "models.head()"
   ]
  },
  {
   "cell_type": "code",
   "execution_count": 22,
   "metadata": {},
   "outputs": [
    {
     "data": {
      "text/plain": [
       "<matplotlib.axes._subplots.AxesSubplot at 0x7f9209a6eb50>"
      ]
     },
     "execution_count": 22,
     "metadata": {},
     "output_type": "execute_result"
    },
    {
     "data": {
      "image/png": "[encoded data removed]",
      "text/plain": [
       "<Figure size 1440x648 with 2 Axes>"
      ]
     },
     "metadata": {
      "needs_background": "light"
     },
     "output_type": "display_data"
    }
   ],
   "source": [
    "plot_residuals(rain_residuals.y, rain_residuals.baseline, rain_residuals.y_hat)"
   ]
  },
  {
   "cell_type": "markdown",
   "metadata": {},
   "source": [
    "- In the next section of your notebook, perform the steps above with the log_rainfall column as the model's feature. Does this model beat the baseline? Would you prefer the log_rainfall model over the flyers model? Would you prefer the model built with log_rainfall over the rainfall model from before?"
   ]
  },
  {
   "cell_type": "code",
   "execution_count": 23,
   "metadata": {},
   "outputs": [
    {
     "data": {
      "text/html": [
       "<div>\n",
       "<style scoped>\n",
       "    .dataframe tbody tr th:only-of-type {\n",
       "        vertical-align: middle;\n",
       "    }\n",
       "\n",
       "    .dataframe tbody tr th {\n",
       "        vertical-align: top;\n",
       "    }\n",
       "\n",
       "    .dataframe thead th {\n",
       "        text-align: right;\n",
       "    }\n",
       "</style>\n",
       "<table border=\"1\" class=\"dataframe\">\n",
       "  <thead>\n",
       "    <tr style=\"text-align: right;\">\n",
       "      <th></th>\n",
       "      <th>temperature</th>\n",
       "      <th>rainfall</th>\n",
       "      <th>flyers</th>\n",
       "      <th>sales</th>\n",
       "      <th>log_rainfall</th>\n",
       "    </tr>\n",
       "  </thead>\n",
       "  <tbody>\n",
       "    <tr>\n",
       "      <th>0</th>\n",
       "      <td>27.0</td>\n",
       "      <td>2.00</td>\n",
       "      <td>15</td>\n",
       "      <td>10</td>\n",
       "      <td>0.693147</td>\n",
       "    </tr>\n",
       "    <tr>\n",
       "      <th>1</th>\n",
       "      <td>28.9</td>\n",
       "      <td>1.33</td>\n",
       "      <td>15</td>\n",
       "      <td>13</td>\n",
       "      <td>0.285179</td>\n",
       "    </tr>\n",
       "    <tr>\n",
       "      <th>2</th>\n",
       "      <td>34.5</td>\n",
       "      <td>1.33</td>\n",
       "      <td>27</td>\n",
       "      <td>15</td>\n",
       "      <td>0.285179</td>\n",
       "    </tr>\n",
       "  </tbody>\n",
       "</table>\n",
       "</div>"
      ],
      "text/plain": [
       "   temperature  rainfall  flyers  sales  log_rainfall\n",
       "0         27.0      2.00      15     10      0.693147\n",
       "1         28.9      1.33      15     13      0.285179\n",
       "2         34.5      1.33      27     15      0.285179"
      ]
     },
     "execution_count": 23,
     "metadata": {},
     "output_type": "execute_result"
    }
   ],
   "source": [
    "df['log_rainfall'] = np.log(df.rainfall)\n",
    "df.head(3)"
   ]
  },
  {
   "cell_type": "code",
   "execution_count": 24,
   "metadata": {},
   "outputs": [
    {
     "data": {
      "text/plain": [
       "Text(0.5, 1.0, 'Distribution of Log of Rainfall')"
      ]
     },
     "execution_count": 24,
     "metadata": {},
     "output_type": "execute_result"
    },
    {
     "data": {
      "image/png": "[encoded data removed]",
      "text/plain": [
       "<Figure size 432x288 with 1 Axes>"
      ]
     },
     "metadata": {
      "needs_background": "light"
     },
     "output_type": "display_data"
    }
   ],
   "source": [
    "# taking a look at the feature we are using to predict\n",
    "plt.hist(df.log_rainfall)\n",
    "plt.title('Distribution of Log of Rainfall')"
   ]
  },
  {
   "cell_type": "code",
   "execution_count": 25,
   "metadata": {},
   "outputs": [
    {
     "data": {
      "text/html": [
       "<div>\n",
       "<style scoped>\n",
       "    .dataframe tbody tr th:only-of-type {\n",
       "        vertical-align: middle;\n",
       "    }\n",
       "\n",
       "    .dataframe tbody tr th {\n",
       "        vertical-align: top;\n",
       "    }\n",
       "\n",
       "    .dataframe thead th {\n",
       "        text-align: right;\n",
       "    }\n",
       "</style>\n",
       "<table border=\"1\" class=\"dataframe\">\n",
       "  <thead>\n",
       "    <tr style=\"text-align: right;\">\n",
       "      <th></th>\n",
       "      <th>x</th>\n",
       "      <th>y</th>\n",
       "      <th>baseline</th>\n",
       "      <th>baseline_residual</th>\n",
       "      <th>y_hat</th>\n",
       "      <th>model_residual</th>\n",
       "    </tr>\n",
       "  </thead>\n",
       "  <tbody>\n",
       "    <tr>\n",
       "      <th>0</th>\n",
       "      <td>0.693147</td>\n",
       "      <td>10</td>\n",
       "      <td>25.323288</td>\n",
       "      <td>15.323288</td>\n",
       "      <td>3.688573</td>\n",
       "      <td>-6.311427</td>\n",
       "    </tr>\n",
       "    <tr>\n",
       "      <th>1</th>\n",
       "      <td>0.285179</td>\n",
       "      <td>13</td>\n",
       "      <td>25.323288</td>\n",
       "      <td>12.323288</td>\n",
       "      <td>13.198359</td>\n",
       "      <td>0.198359</td>\n",
       "    </tr>\n",
       "    <tr>\n",
       "      <th>2</th>\n",
       "      <td>0.285179</td>\n",
       "      <td>15</td>\n",
       "      <td>25.323288</td>\n",
       "      <td>10.323288</td>\n",
       "      <td>13.198359</td>\n",
       "      <td>-1.801641</td>\n",
       "    </tr>\n",
       "    <tr>\n",
       "      <th>3</th>\n",
       "      <td>0.048790</td>\n",
       "      <td>17</td>\n",
       "      <td>25.323288</td>\n",
       "      <td>8.323288</td>\n",
       "      <td>18.708608</td>\n",
       "      <td>1.708608</td>\n",
       "    </tr>\n",
       "    <tr>\n",
       "      <th>4</th>\n",
       "      <td>0.000000</td>\n",
       "      <td>18</td>\n",
       "      <td>25.323288</td>\n",
       "      <td>7.323288</td>\n",
       "      <td>19.845912</td>\n",
       "      <td>1.845912</td>\n",
       "    </tr>\n",
       "  </tbody>\n",
       "</table>\n",
       "</div>"
      ],
      "text/plain": [
       "          x   y   baseline  baseline_residual      y_hat  model_residual\n",
       "0  0.693147  10  25.323288          15.323288   3.688573       -6.311427\n",
       "1  0.285179  13  25.323288          12.323288  13.198359        0.198359\n",
       "2  0.285179  15  25.323288          10.323288  13.198359       -1.801641\n",
       "3  0.048790  17  25.323288           8.323288  18.708608        1.708608\n",
       "4  0.000000  18  25.323288           7.323288  19.845912        1.845912"
      ]
     },
     "execution_count": 25,
     "metadata": {},
     "output_type": "execute_result"
    }
   ],
   "source": [
    "# First - establish a baseline. \n",
    "# Sales is normally distributed, so the average\n",
    "baseline = df.sales.mean()\n",
    "\n",
    "# crating empty df to hold actual, predicted, residuals\n",
    "log_rain_residuals = pd.DataFrame()\n",
    "\n",
    "# adding x and y\n",
    "log_rain_residuals['x'] = df.log_rainfall\n",
    "log_rain_residuals['y'] = df.sales\n",
    "\n",
    "# adding baseline prediction of mode .77\n",
    "log_rain_residuals['baseline'] = baseline\n",
    "\n",
    "# calculating baseline residuals\n",
    "log_rain_residuals['baseline_residual'] = log_rain_residuals.baseline - log_rain_residuals.y\n",
    "\n",
    "# creating model for rainfall predicting sales\n",
    "model = ols('sales ~ log_rainfall', df).fit()\n",
    "\n",
    "# creates prediction (sales) based on x (rainfall)\n",
    "log_rain_residuals['y_hat'] = model.predict()\n",
    "\n",
    "# calculates residual of model\n",
    "log_rain_residuals['model_residual'] = log_rain_residuals.y_hat - log_rain_residuals.y\n",
    "\n",
    "\n",
    "log_rain_residuals.head(5)"
   ]
  },
  {
   "cell_type": "code",
   "execution_count": 26,
   "metadata": {},
   "outputs": [
    {
     "name": "stdout",
     "output_type": "stream",
     "text": [
      "Our model beats the baseline! We can continue to evaluate.\n",
      "\n",
      "Baseline\n",
      "SSE - The baselines sum of squared errors is: 17297.852\n",
      "MSE - The mean of squared errors is: 47.391\n",
      "RMSE - The square root of the mean of squared errors is: 6.884\n",
      "\n",
      "Model\n",
      "SSE - The models sum of squared errors is: 952.325\n",
      "MSE - The mean of squared errors is: 2.609\n",
      "RMSE - The square root of the mean of squared errors is: 1.615\n",
      "\n",
      "R-squared =  0.945\n",
      "p-value for model significance =  1.224262409779449e-230\n",
      "The model is significant!\n"
     ]
    }
   ],
   "source": [
    "baseline_sse, model_sse = sum_squared_errors(log_rain_residuals)\n",
    "\n",
    "print('\\nBaseline')\n",
    "print('SSE - The baselines sum of squared errors is:', round(baseline_sse, 3))\n",
    "print('MSE - The mean of squared errors is:', round(baseline_sse/len(df.sales), 3))\n",
    "print('RMSE - The square root of the mean of squared errors is:', round(sqrt(baseline_sse/len(df.sales)), 3))\n",
    "\n",
    "print('\\nModel')\n",
    "print('SSE - The models sum of squared errors is:', round(model_sse, 3))\n",
    "print('MSE - The mean of squared errors is:', round(model_sse/len(df.sales), 3))\n",
    "print('RMSE - The square root of the mean of squared errors is:', round(sqrt(model_sse/len(df.sales)), 3))\n",
    "\n",
    "# calculate r squared first\n",
    "r2 = model.rsquared\n",
    "print('\\nR-squared = ', round(r2,3))\n",
    "\n",
    "# if p is low, we reject the null (aka reject that the feature is not significant)\n",
    "f_pval = model.f_pvalue\n",
    "print(\"p-value for model significance = \", f_pval)\n",
    "print(\"The model is significant!\")"
   ]
  },
  {
   "cell_type": "code",
   "execution_count": 27,
   "metadata": {},
   "outputs": [
    {
     "data": {
      "text/html": [
       "<div>\n",
       "<style scoped>\n",
       "    .dataframe tbody tr th:only-of-type {\n",
       "        vertical-align: middle;\n",
       "    }\n",
       "\n",
       "    .dataframe tbody tr th {\n",
       "        vertical-align: top;\n",
       "    }\n",
       "\n",
       "    .dataframe thead th {\n",
       "        text-align: right;\n",
       "    }\n",
       "</style>\n",
       "<table border=\"1\" class=\"dataframe\">\n",
       "  <thead>\n",
       "    <tr style=\"text-align: right;\">\n",
       "      <th></th>\n",
       "      <th>Model_1</th>\n",
       "      <th>Model_2</th>\n",
       "      <th>Model_3</th>\n",
       "      <th>Model_4</th>\n",
       "    </tr>\n",
       "  </thead>\n",
       "  <tbody>\n",
       "    <tr>\n",
       "      <th>SSE</th>\n",
       "      <td>6083.326</td>\n",
       "      <td>2998.237</td>\n",
       "      <td>952.325</td>\n",
       "      <td>NaN</td>\n",
       "    </tr>\n",
       "    <tr>\n",
       "      <th>MSE</th>\n",
       "      <td>16.667</td>\n",
       "      <td>8.214</td>\n",
       "      <td>2.609</td>\n",
       "      <td>NaN</td>\n",
       "    </tr>\n",
       "    <tr>\n",
       "      <th>RMSE</th>\n",
       "      <td>4.082</td>\n",
       "      <td>2.866</td>\n",
       "      <td>1.615</td>\n",
       "      <td>NaN</td>\n",
       "    </tr>\n",
       "  </tbody>\n",
       "</table>\n",
       "</div>"
      ],
      "text/plain": [
       "       Model_1   Model_2  Model_3 Model_4\n",
       "SSE   6083.326  2998.237  952.325     NaN\n",
       "MSE     16.667     8.214    2.609     NaN\n",
       "RMSE     4.082     2.866    1.615     NaN"
      ]
     },
     "execution_count": 27,
     "metadata": {},
     "output_type": "execute_result"
    }
   ],
   "source": [
    "# creating a DF to hold these values for each model\n",
    "models['Model_3'] = [round(model_sse, 3), round(model_sse/len(df.sales), 3), round(sqrt(model_sse/len(df.sales)), 3)]\n",
    "models.head()"
   ]
  },
  {
   "cell_type": "code",
   "execution_count": 28,
   "metadata": {},
   "outputs": [
    {
     "data": {
      "text/plain": [
       "<matplotlib.axes._subplots.AxesSubplot at 0x7f920a2a64d0>"
      ]
     },
     "execution_count": 28,
     "metadata": {},
     "output_type": "execute_result"
    },
    {
     "data": {
      "image/png": "[encoded data removed]",
      "text/plain": [
       "<Figure size 1440x648 with 2 Axes>"
      ]
     },
     "metadata": {
      "needs_background": "light"
     },
     "output_type": "display_data"
    }
   ],
   "source": [
    "plot_residuals(log_rain_residuals.y, log_rain_residuals.baseline, log_rain_residuals.y_hat)"
   ]
  },
  {
   "cell_type": "markdown",
   "metadata": {},
   "source": [
    "# In the next section of your notebook, perform the steps above with the temperature column as the model's only feature. Does this model beat the baseline? Would you prefer the rainfall, log_rainfall, or the flyers model?"
   ]
  },
  {
   "cell_type": "code",
   "execution_count": 29,
   "metadata": {},
   "outputs": [
    {
     "data": {
      "text/plain": [
       "(array([ 2., 18., 27., 48., 65., 88., 57., 38., 14.,  8.]),\n",
       " array([ 15.1 ,  23.88,  32.66,  41.44,  50.22,  59.  ,  67.78,  76.56,\n",
       "         85.34,  94.12, 102.9 ]),\n",
       " <a list of 10 Patch objects>)"
      ]
     },
     "execution_count": 29,
     "metadata": {},
     "output_type": "execute_result"
    },
    {
     "data": {
      "image/png": "[encoded data removed]",
      "text/plain": [
       "<Figure size 432x288 with 1 Axes>"
      ]
     },
     "metadata": {
      "needs_background": "light"
     },
     "output_type": "display_data"
    }
   ],
   "source": [
    "plt.hist(df.temperature)"
   ]
  },
  {
   "cell_type": "code",
   "execution_count": 30,
   "metadata": {},
   "outputs": [
    {
     "data": {
      "text/html": [
       "<div>\n",
       "<style scoped>\n",
       "    .dataframe tbody tr th:only-of-type {\n",
       "        vertical-align: middle;\n",
       "    }\n",
       "\n",
       "    .dataframe tbody tr th {\n",
       "        vertical-align: top;\n",
       "    }\n",
       "\n",
       "    .dataframe thead th {\n",
       "        text-align: right;\n",
       "    }\n",
       "</style>\n",
       "<table border=\"1\" class=\"dataframe\">\n",
       "  <thead>\n",
       "    <tr style=\"text-align: right;\">\n",
       "      <th></th>\n",
       "      <th>x</th>\n",
       "      <th>y</th>\n",
       "      <th>baseline</th>\n",
       "      <th>baseline_residual</th>\n",
       "      <th>y_hat</th>\n",
       "      <th>model_residual</th>\n",
       "    </tr>\n",
       "  </thead>\n",
       "  <tbody>\n",
       "    <tr>\n",
       "      <th>0</th>\n",
       "      <td>27.0</td>\n",
       "      <td>10</td>\n",
       "      <td>25.323288</td>\n",
       "      <td>15.323288</td>\n",
       "      <td>11.112301</td>\n",
       "      <td>1.112301</td>\n",
       "    </tr>\n",
       "    <tr>\n",
       "      <th>1</th>\n",
       "      <td>28.9</td>\n",
       "      <td>13</td>\n",
       "      <td>25.323288</td>\n",
       "      <td>12.323288</td>\n",
       "      <td>11.912772</td>\n",
       "      <td>-1.087228</td>\n",
       "    </tr>\n",
       "    <tr>\n",
       "      <th>2</th>\n",
       "      <td>34.5</td>\n",
       "      <td>15</td>\n",
       "      <td>25.323288</td>\n",
       "      <td>10.323288</td>\n",
       "      <td>14.272055</td>\n",
       "      <td>-0.727945</td>\n",
       "    </tr>\n",
       "    <tr>\n",
       "      <th>3</th>\n",
       "      <td>44.1</td>\n",
       "      <td>17</td>\n",
       "      <td>25.323288</td>\n",
       "      <td>8.323288</td>\n",
       "      <td>18.316540</td>\n",
       "      <td>1.316540</td>\n",
       "    </tr>\n",
       "    <tr>\n",
       "      <th>4</th>\n",
       "      <td>42.4</td>\n",
       "      <td>18</td>\n",
       "      <td>25.323288</td>\n",
       "      <td>7.323288</td>\n",
       "      <td>17.600329</td>\n",
       "      <td>-0.399671</td>\n",
       "    </tr>\n",
       "  </tbody>\n",
       "</table>\n",
       "</div>"
      ],
      "text/plain": [
       "      x   y   baseline  baseline_residual      y_hat  model_residual\n",
       "0  27.0  10  25.323288          15.323288  11.112301        1.112301\n",
       "1  28.9  13  25.323288          12.323288  11.912772       -1.087228\n",
       "2  34.5  15  25.323288          10.323288  14.272055       -0.727945\n",
       "3  44.1  17  25.323288           8.323288  18.316540        1.316540\n",
       "4  42.4  18  25.323288           7.323288  17.600329       -0.399671"
      ]
     },
     "execution_count": 30,
     "metadata": {},
     "output_type": "execute_result"
    }
   ],
   "source": [
    "# First - establish a baseline. \n",
    "# Distribution is normal - choosing average\n",
    "baseline = df.sales.mean()\n",
    "\n",
    "# creating empty df to hold actual, predicted, residuals\n",
    "temp_residuals = pd.DataFrame()\n",
    "\n",
    "# adding x and y\n",
    "temp_residuals['x'] = df.temperature\n",
    "temp_residuals['y'] = df.sales\n",
    "\n",
    "# adding baseline prediction of average\n",
    "temp_residuals['baseline'] = baseline\n",
    "\n",
    "# calculating baseline residuals\n",
    "temp_residuals['baseline_residual'] = temp_residuals.baseline - temp_residuals.y\n",
    "\n",
    "# creating model for rainfall predicting sales\n",
    "model = ols('sales ~ temperature', df).fit()\n",
    "\n",
    "# creates prediction (sales) based on x (rainfall)\n",
    "temp_residuals['y_hat'] = model.predict()\n",
    "\n",
    "# calculates residual of model\n",
    "temp_residuals['model_residual'] = temp_residuals.y_hat - temp_residuals.y\n",
    "\n",
    "\n",
    "temp_residuals.head(5)"
   ]
  },
  {
   "cell_type": "code",
   "execution_count": 31,
   "metadata": {},
   "outputs": [
    {
     "name": "stdout",
     "output_type": "stream",
     "text": [
      "Our model beats the baseline! We can continue to evaluate.\n",
      "\n",
      "Baseline\n",
      "SSE - The baselines sum of squared errors is: 17297.852\n",
      "MSE - The mean of squared errors is: 47.391\n",
      "RMSE - The square root of the mean of squared errors is: 6.884\n",
      "\n",
      "Model\n",
      "SSE - The models sum of squared errors is: 349.978\n",
      "MSE - The mean of squared errors is: 0.959\n",
      "RMSE - The square root of the mean of squared errors is: 0.979\n",
      "\n",
      "R-squared =  0.98\n",
      "p-value for model significance =  1.492364042585725e-309\n",
      "The model is significant!\n"
     ]
    }
   ],
   "source": [
    "baseline_sse, model_sse = sum_squared_errors(temp_residuals)\n",
    "\n",
    "print('\\nBaseline')\n",
    "print('SSE - The baselines sum of squared errors is:', round(baseline_sse, 3))\n",
    "print('MSE - The mean of squared errors is:', round(baseline_sse/len(df.sales), 3))\n",
    "print('RMSE - The square root of the mean of squared errors is:', round(sqrt(baseline_sse/len(df.sales)), 3))\n",
    "\n",
    "print('\\nModel')\n",
    "print('SSE - The models sum of squared errors is:', round(model_sse, 3))\n",
    "print('MSE - The mean of squared errors is:', round(model_sse/len(df.sales), 3))\n",
    "print('RMSE - The square root of the mean of squared errors is:', round(sqrt(model_sse/len(df.sales)), 3))\n",
    "\n",
    "# calculate r squared first\n",
    "r2 = model.rsquared\n",
    "print('\\nR-squared = ', round(r2,3))\n",
    "\n",
    "# if p is low, we reject the null (aka reject that the feature is not significant)\n",
    "f_pval = model.f_pvalue\n",
    "print(\"p-value for model significance = \", f_pval)\n",
    "print(\"The model is significant!\")"
   ]
  },
  {
   "cell_type": "code",
   "execution_count": 32,
   "metadata": {},
   "outputs": [
    {
     "data": {
      "text/html": [
       "<div>\n",
       "<style scoped>\n",
       "    .dataframe tbody tr th:only-of-type {\n",
       "        vertical-align: middle;\n",
       "    }\n",
       "\n",
       "    .dataframe tbody tr th {\n",
       "        vertical-align: top;\n",
       "    }\n",
       "\n",
       "    .dataframe thead th {\n",
       "        text-align: right;\n",
       "    }\n",
       "</style>\n",
       "<table border=\"1\" class=\"dataframe\">\n",
       "  <thead>\n",
       "    <tr style=\"text-align: right;\">\n",
       "      <th></th>\n",
       "      <th>Model_1</th>\n",
       "      <th>Model_2</th>\n",
       "      <th>Model_3</th>\n",
       "      <th>Model_4</th>\n",
       "    </tr>\n",
       "  </thead>\n",
       "  <tbody>\n",
       "    <tr>\n",
       "      <th>SSE</th>\n",
       "      <td>6083.326</td>\n",
       "      <td>2998.237</td>\n",
       "      <td>952.325</td>\n",
       "      <td>349.978</td>\n",
       "    </tr>\n",
       "    <tr>\n",
       "      <th>MSE</th>\n",
       "      <td>16.667</td>\n",
       "      <td>8.214</td>\n",
       "      <td>2.609</td>\n",
       "      <td>0.959</td>\n",
       "    </tr>\n",
       "    <tr>\n",
       "      <th>RMSE</th>\n",
       "      <td>4.082</td>\n",
       "      <td>2.866</td>\n",
       "      <td>1.615</td>\n",
       "      <td>0.979</td>\n",
       "    </tr>\n",
       "  </tbody>\n",
       "</table>\n",
       "</div>"
      ],
      "text/plain": [
       "       Model_1   Model_2  Model_3  Model_4\n",
       "SSE   6083.326  2998.237  952.325  349.978\n",
       "MSE     16.667     8.214    2.609    0.959\n",
       "RMSE     4.082     2.866    1.615    0.979"
      ]
     },
     "execution_count": 32,
     "metadata": {},
     "output_type": "execute_result"
    }
   ],
   "source": [
    "# creating a DF to hold these values for each model\n",
    "models['Model_4'] = [round(model_sse, 3), round(model_sse/len(df.sales), 3), round(sqrt(model_sse/len(df.sales)), 3)]\n",
    "models.head()"
   ]
  },
  {
   "cell_type": "code",
   "execution_count": 33,
   "metadata": {},
   "outputs": [
    {
     "data": {
      "text/plain": [
       "<matplotlib.axes._subplots.AxesSubplot at 0x7f920ac0ef10>"
      ]
     },
     "execution_count": 33,
     "metadata": {},
     "output_type": "execute_result"
    },
    {
     "data": {
      "image/png": "[encoded data removed]",
      "text/plain": [
       "<Figure size 1440x648 with 2 Axes>"
      ]
     },
     "metadata": {
      "needs_background": "light"
     },
     "output_type": "display_data"
    }
   ],
   "source": [
    "plot_residuals(temp_residuals.y, temp_residuals.baseline, temp_residuals.y_hat)"
   ]
  },
  {
   "cell_type": "markdown",
   "metadata": {},
   "source": [
    "- Which of these 4 single regression models would you want to move forward with?"
   ]
  },
  {
   "cell_type": "code",
   "execution_count": 34,
   "metadata": {},
   "outputs": [
    {
     "data": {
      "text/html": [
       "<div>\n",
       "<style scoped>\n",
       "    .dataframe tbody tr th:only-of-type {\n",
       "        vertical-align: middle;\n",
       "    }\n",
       "\n",
       "    .dataframe tbody tr th {\n",
       "        vertical-align: top;\n",
       "    }\n",
       "\n",
       "    .dataframe thead th {\n",
       "        text-align: right;\n",
       "    }\n",
       "</style>\n",
       "<table border=\"1\" class=\"dataframe\">\n",
       "  <thead>\n",
       "    <tr style=\"text-align: right;\">\n",
       "      <th></th>\n",
       "      <th>Model_1</th>\n",
       "      <th>Model_2</th>\n",
       "      <th>Model_3</th>\n",
       "      <th>Model_4</th>\n",
       "    </tr>\n",
       "  </thead>\n",
       "  <tbody>\n",
       "    <tr>\n",
       "      <th>SSE</th>\n",
       "      <td>6083.326</td>\n",
       "      <td>2998.237</td>\n",
       "      <td>952.325</td>\n",
       "      <td>349.978</td>\n",
       "    </tr>\n",
       "    <tr>\n",
       "      <th>MSE</th>\n",
       "      <td>16.667</td>\n",
       "      <td>8.214</td>\n",
       "      <td>2.609</td>\n",
       "      <td>0.959</td>\n",
       "    </tr>\n",
       "    <tr>\n",
       "      <th>RMSE</th>\n",
       "      <td>4.082</td>\n",
       "      <td>2.866</td>\n",
       "      <td>1.615</td>\n",
       "      <td>0.979</td>\n",
       "    </tr>\n",
       "  </tbody>\n",
       "</table>\n",
       "</div>"
      ],
      "text/plain": [
       "       Model_1   Model_2  Model_3  Model_4\n",
       "SSE   6083.326  2998.237  952.325  349.978\n",
       "MSE     16.667     8.214    2.609    0.959\n",
       "RMSE     4.082     2.866    1.615    0.979"
      ]
     },
     "execution_count": 34,
     "metadata": {},
     "output_type": "execute_result"
    }
   ],
   "source": [
    "models"
   ]
  },
  {
   "cell_type": "markdown",
   "metadata": {},
   "source": [
    "- Model 4 has the best metrics, I choose you temperature model!"
   ]
  },
  {
   "cell_type": "code",
   "execution_count": 47,
   "metadata": {},
   "outputs": [
    {
     "data": {
      "text/plain": [
       "<seaborn.axisgrid.PairGrid at 0x7f920c129950>"
      ]
     },
     "execution_count": 47,
     "metadata": {},
     "output_type": "execute_result"
    },
    {
     "data": {
      "image/png": "[encoded data removed]",
      "text/plain": [
       "<Figure size 900x900 with 20 Axes>"
      ]
     },
     "metadata": {
      "needs_background": "light"
     },
     "output_type": "display_data"
    }
   ],
   "source": [
    "sns.pairplot(df, corner = True)"
   ]
  },
  {
   "cell_type": "markdown",
   "metadata": {},
   "source": [
    "# Tips dataset\n",
    "- Load the tips dataset from pydataset or seaborn"
   ]
  },
  {
   "cell_type": "code",
   "execution_count": 35,
   "metadata": {},
   "outputs": [
    {
     "data": {
      "text/html": [
       "<div>\n",
       "<style scoped>\n",
       "    .dataframe tbody tr th:only-of-type {\n",
       "        vertical-align: middle;\n",
       "    }\n",
       "\n",
       "    .dataframe tbody tr th {\n",
       "        vertical-align: top;\n",
       "    }\n",
       "\n",
       "    .dataframe thead th {\n",
       "        text-align: right;\n",
       "    }\n",
       "</style>\n",
       "<table border=\"1\" class=\"dataframe\">\n",
       "  <thead>\n",
       "    <tr style=\"text-align: right;\">\n",
       "      <th></th>\n",
       "      <th>total_bill</th>\n",
       "      <th>tip</th>\n",
       "      <th>sex</th>\n",
       "      <th>smoker</th>\n",
       "      <th>day</th>\n",
       "      <th>time</th>\n",
       "      <th>size</th>\n",
       "    </tr>\n",
       "  </thead>\n",
       "  <tbody>\n",
       "    <tr>\n",
       "      <th>0</th>\n",
       "      <td>16.99</td>\n",
       "      <td>1.01</td>\n",
       "      <td>Female</td>\n",
       "      <td>No</td>\n",
       "      <td>Sun</td>\n",
       "      <td>Dinner</td>\n",
       "      <td>2</td>\n",
       "    </tr>\n",
       "    <tr>\n",
       "      <th>1</th>\n",
       "      <td>10.34</td>\n",
       "      <td>1.66</td>\n",
       "      <td>Male</td>\n",
       "      <td>No</td>\n",
       "      <td>Sun</td>\n",
       "      <td>Dinner</td>\n",
       "      <td>3</td>\n",
       "    </tr>\n",
       "    <tr>\n",
       "      <th>2</th>\n",
       "      <td>21.01</td>\n",
       "      <td>3.50</td>\n",
       "      <td>Male</td>\n",
       "      <td>No</td>\n",
       "      <td>Sun</td>\n",
       "      <td>Dinner</td>\n",
       "      <td>3</td>\n",
       "    </tr>\n",
       "    <tr>\n",
       "      <th>3</th>\n",
       "      <td>23.68</td>\n",
       "      <td>3.31</td>\n",
       "      <td>Male</td>\n",
       "      <td>No</td>\n",
       "      <td>Sun</td>\n",
       "      <td>Dinner</td>\n",
       "      <td>2</td>\n",
       "    </tr>\n",
       "    <tr>\n",
       "      <th>4</th>\n",
       "      <td>24.59</td>\n",
       "      <td>3.61</td>\n",
       "      <td>Female</td>\n",
       "      <td>No</td>\n",
       "      <td>Sun</td>\n",
       "      <td>Dinner</td>\n",
       "      <td>4</td>\n",
       "    </tr>\n",
       "  </tbody>\n",
       "</table>\n",
       "</div>"
      ],
      "text/plain": [
       "   total_bill   tip     sex smoker  day    time  size\n",
       "0       16.99  1.01  Female     No  Sun  Dinner     2\n",
       "1       10.34  1.66    Male     No  Sun  Dinner     3\n",
       "2       21.01  3.50    Male     No  Sun  Dinner     3\n",
       "3       23.68  3.31    Male     No  Sun  Dinner     2\n",
       "4       24.59  3.61  Female     No  Sun  Dinner     4"
      ]
     },
     "execution_count": 35,
     "metadata": {},
     "output_type": "execute_result"
    }
   ],
   "source": [
    "tips = sns.load_dataset('tips')\n",
    "tips.head()"
   ]
  },
  {
   "cell_type": "markdown",
   "metadata": {},
   "source": [
    "1. Define your baseline for \"tip\".  Our goal will be to see if we can make a model that is better than baseline for predicting tips on total_bill. "
   ]
  },
  {
   "cell_type": "code",
   "execution_count": 36,
   "metadata": {},
   "outputs": [
    {
     "name": "stdout",
     "output_type": "stream",
     "text": [
      "average: 2.9982786885245902 \n",
      "mode: 0    2.0\n",
      "dtype: float64 \n",
      "median: 2.9\n"
     ]
    },
    {
     "data": {
      "text/plain": [
       "(array([41., 79., 66., 27., 19.,  5.,  4.,  1.,  1.,  1.]),\n",
       " array([ 1. ,  1.9,  2.8,  3.7,  4.6,  5.5,  6.4,  7.3,  8.2,  9.1, 10. ]),\n",
       " <a list of 10 Patch objects>)"
      ]
     },
     "execution_count": 36,
     "metadata": {},
     "output_type": "execute_result"
    },
    {
     "data": {
      "image/png": "[encoded data removed]",
      "text/plain": [
       "<Figure size 432x288 with 1 Axes>"
      ]
     },
     "metadata": {
      "needs_background": "light"
     },
     "output_type": "display_data"
    }
   ],
   "source": [
    "print('average:',tips.tip.mean(),'\\nmode:',tips.tip.mode(),'\\nmedian:',tips.tip.median())\n",
    "plt.hist(tips.tip)"
   ]
  },
  {
   "cell_type": "code",
   "execution_count": 37,
   "metadata": {},
   "outputs": [
    {
     "data": {
      "image/png": "[encoded data removed]",
      "text/plain": [
       "<Figure size 432x288 with 1 Axes>"
      ]
     },
     "metadata": {
      "needs_background": "light"
     },
     "output_type": "display_data"
    }
   ],
   "source": [
    "plt.suptitle(\"Adding a Line of Best Fit\")\n",
    "plt.title(\"Plotting Tips vs. Total Bill\")\n",
    "sns.regplot(x=\"tip\", y=\"total_bill\", data=tips)\n",
    "plt.show()"
   ]
  },
  {
   "cell_type": "code",
   "execution_count": 38,
   "metadata": {},
   "outputs": [
    {
     "data": {
      "text/html": [
       "<div>\n",
       "<style scoped>\n",
       "    .dataframe tbody tr th:only-of-type {\n",
       "        vertical-align: middle;\n",
       "    }\n",
       "\n",
       "    .dataframe tbody tr th {\n",
       "        vertical-align: top;\n",
       "    }\n",
       "\n",
       "    .dataframe thead th {\n",
       "        text-align: right;\n",
       "    }\n",
       "</style>\n",
       "<table border=\"1\" class=\"dataframe\">\n",
       "  <thead>\n",
       "    <tr style=\"text-align: right;\">\n",
       "      <th></th>\n",
       "      <th>x</th>\n",
       "      <th>y</th>\n",
       "      <th>baseline</th>\n",
       "      <th>baseline_residual</th>\n",
       "    </tr>\n",
       "  </thead>\n",
       "  <tbody>\n",
       "    <tr>\n",
       "      <th>0</th>\n",
       "      <td>16.99</td>\n",
       "      <td>1.01</td>\n",
       "      <td>2.9</td>\n",
       "      <td>1.89</td>\n",
       "    </tr>\n",
       "    <tr>\n",
       "      <th>1</th>\n",
       "      <td>10.34</td>\n",
       "      <td>1.66</td>\n",
       "      <td>2.9</td>\n",
       "      <td>1.24</td>\n",
       "    </tr>\n",
       "    <tr>\n",
       "      <th>2</th>\n",
       "      <td>21.01</td>\n",
       "      <td>3.50</td>\n",
       "      <td>2.9</td>\n",
       "      <td>-0.60</td>\n",
       "    </tr>\n",
       "    <tr>\n",
       "      <th>3</th>\n",
       "      <td>23.68</td>\n",
       "      <td>3.31</td>\n",
       "      <td>2.9</td>\n",
       "      <td>-0.41</td>\n",
       "    </tr>\n",
       "    <tr>\n",
       "      <th>4</th>\n",
       "      <td>24.59</td>\n",
       "      <td>3.61</td>\n",
       "      <td>2.9</td>\n",
       "      <td>-0.71</td>\n",
       "    </tr>\n",
       "  </tbody>\n",
       "</table>\n",
       "</div>"
      ],
      "text/plain": [
       "       x     y  baseline  baseline_residual\n",
       "0  16.99  1.01       2.9               1.89\n",
       "1  10.34  1.66       2.9               1.24\n",
       "2  21.01  3.50       2.9              -0.60\n",
       "3  23.68  3.31       2.9              -0.41\n",
       "4  24.59  3.61       2.9              -0.71"
      ]
     },
     "execution_count": 38,
     "metadata": {},
     "output_type": "execute_result"
    }
   ],
   "source": [
    "baseline = tips.tip.median()\n",
    "\n",
    "residuals = pd.DataFrame()\n",
    "residuals['x'] = tips.total_bill\n",
    "residuals['y'] = tips.tip\n",
    "residuals['baseline'] = baseline\n",
    "residuals['baseline_residual'] = residuals.baseline - residuals.y\n",
    "residuals.head(5)"
   ]
  },
  {
   "cell_type": "markdown",
   "metadata": {},
   "source": [
    "2. Fit a linear regression model (ordinary least squares) and compute what, predictions of tip using total_bill. Here is some sample code to get you started:\n",
    "        - from statsmodels.formula.api import ols\n",
    "        - from pydataset import data\n",
    "\n",
    "        - df = data(\"tips\")\n",
    "\n",
    "        - model = ols('tip ~ total_bill', data=df).fit()\n",
    "        - predictions = model.predict(df.x)"
   ]
  },
  {
   "cell_type": "code",
   "execution_count": 39,
   "metadata": {},
   "outputs": [
    {
     "data": {
      "text/html": [
       "<div>\n",
       "<style scoped>\n",
       "    .dataframe tbody tr th:only-of-type {\n",
       "        vertical-align: middle;\n",
       "    }\n",
       "\n",
       "    .dataframe tbody tr th {\n",
       "        vertical-align: top;\n",
       "    }\n",
       "\n",
       "    .dataframe thead th {\n",
       "        text-align: right;\n",
       "    }\n",
       "</style>\n",
       "<table border=\"1\" class=\"dataframe\">\n",
       "  <thead>\n",
       "    <tr style=\"text-align: right;\">\n",
       "      <th></th>\n",
       "      <th>x</th>\n",
       "      <th>y</th>\n",
       "      <th>baseline</th>\n",
       "      <th>baseline_residual</th>\n",
       "      <th>y_hat</th>\n",
       "      <th>model_residual</th>\n",
       "    </tr>\n",
       "  </thead>\n",
       "  <tbody>\n",
       "    <tr>\n",
       "      <th>0</th>\n",
       "      <td>16.99</td>\n",
       "      <td>1.01</td>\n",
       "      <td>2.9</td>\n",
       "      <td>1.89</td>\n",
       "      <td>2.704636</td>\n",
       "      <td>1.694636</td>\n",
       "    </tr>\n",
       "    <tr>\n",
       "      <th>1</th>\n",
       "      <td>10.34</td>\n",
       "      <td>1.66</td>\n",
       "      <td>2.9</td>\n",
       "      <td>1.24</td>\n",
       "      <td>2.006223</td>\n",
       "      <td>0.346223</td>\n",
       "    </tr>\n",
       "    <tr>\n",
       "      <th>2</th>\n",
       "      <td>21.01</td>\n",
       "      <td>3.50</td>\n",
       "      <td>2.9</td>\n",
       "      <td>-0.60</td>\n",
       "      <td>3.126835</td>\n",
       "      <td>-0.373165</td>\n",
       "    </tr>\n",
       "    <tr>\n",
       "      <th>3</th>\n",
       "      <td>23.68</td>\n",
       "      <td>3.31</td>\n",
       "      <td>2.9</td>\n",
       "      <td>-0.41</td>\n",
       "      <td>3.407250</td>\n",
       "      <td>0.097250</td>\n",
       "    </tr>\n",
       "    <tr>\n",
       "      <th>4</th>\n",
       "      <td>24.59</td>\n",
       "      <td>3.61</td>\n",
       "      <td>2.9</td>\n",
       "      <td>-0.71</td>\n",
       "      <td>3.502822</td>\n",
       "      <td>-0.107178</td>\n",
       "    </tr>\n",
       "  </tbody>\n",
       "</table>\n",
       "</div>"
      ],
      "text/plain": [
       "       x     y  baseline  baseline_residual     y_hat  model_residual\n",
       "0  16.99  1.01       2.9               1.89  2.704636        1.694636\n",
       "1  10.34  1.66       2.9               1.24  2.006223        0.346223\n",
       "2  21.01  3.50       2.9              -0.60  3.126835       -0.373165\n",
       "3  23.68  3.31       2.9              -0.41  3.407250        0.097250\n",
       "4  24.59  3.61       2.9              -0.71  3.502822       -0.107178"
      ]
     },
     "execution_count": 39,
     "metadata": {},
     "output_type": "execute_result"
    }
   ],
   "source": [
    "model = ols('tip ~ total_bill', data=tips).fit()\n",
    "\n",
    "residuals['y_hat'] = model.predict()\n",
    "\n",
    "residuals['model_residual'] = residuals.y_hat - residuals.y\n",
    "\n",
    "residuals.head()"
   ]
  },
  {
   "cell_type": "markdown",
   "metadata": {},
   "source": [
    "1. Calculate the sum of squared errors, explained sum of squares, total sum of squares, mean squared error, and root mean squared error for your model."
   ]
  },
  {
   "cell_type": "code",
   "execution_count": 40,
   "metadata": {},
   "outputs": [
    {
     "name": "stdout",
     "output_type": "stream",
     "text": [
      "Our model beats the baseline! We can continue to evaluate.\n",
      "\n",
      "SSE - The models sum of squared errors is: 252.789\n",
      "MSE - The mean of squared errors is: 0.693\n",
      "RMSE - The square root of the mean of squared errors is: 0.832\n"
     ]
    }
   ],
   "source": [
    "# function created in cell 10\n",
    "# returns sse for baseline and model\n",
    "baseline_sse, model_sse = sum_squared_errors(residuals)\n",
    "\n",
    "print('\\nSSE - The models sum of squared errors is:', round(model_sse, 3))\n",
    "print('MSE - The mean of squared errors is:', round(model_sse/len(df.sales), 3))\n",
    "print('RMSE - The square root of the mean of squared errors is:', round(sqrt(model_sse/len(df.sales)), 3))"
   ]
  },
  {
   "cell_type": "markdown",
   "metadata": {},
   "source": [
    "2. Calculate the sum of squared errors, mean squared error, and root mean squared error for the baseline model (i.e. a model that always predicts the average tip amount)."
   ]
  },
  {
   "cell_type": "code",
   "execution_count": 41,
   "metadata": {},
   "outputs": [
    {
     "name": "stdout",
     "output_type": "stream",
     "text": [
      "SSE - The baselines sum of squared errors is: 467.569\n",
      "MSE - The mean of squared errors is: 1.281\n",
      "RMSE - The square root of the mean of squared errors is: 1.132\n"
     ]
    }
   ],
   "source": [
    "print('SSE - The baselines sum of squared errors is:', round(baseline_sse, 3))\n",
    "print('MSE - The mean of squared errors is:', round(baseline_sse/len(df.sales), 3))\n",
    "print('RMSE - The square root of the mean of squared errors is:', round(sqrt(baseline_sse/len(df.sales)), 3))"
   ]
  },
  {
   "cell_type": "markdown",
   "metadata": {},
   "source": [
    "3. Write python code that compares the sum of squared errors for your model against the sum of squared errors for the baseline model and outputs whether or not your model performs better than the baseline model."
   ]
  },
  {
   "cell_type": "code",
   "execution_count": 42,
   "metadata": {},
   "outputs": [
    {
     "name": "stdout",
     "output_type": "stream",
     "text": [
      "Our model beats the baseline! We can continue to evaluate.\n"
     ]
    }
   ],
   "source": [
    "# function created in cell 10\n",
    "baseline_sse, model_sse = sum_squared_errors(residuals)"
   ]
  },
  {
   "cell_type": "markdown",
   "metadata": {},
   "source": [
    "4. What is the amount of variance explained in your model?"
   ]
  },
  {
   "cell_type": "code",
   "execution_count": null,
   "metadata": {},
   "outputs": [],
   "source": []
  },
  {
   "cell_type": "markdown",
   "metadata": {},
   "source": [
    "5. Is your model significantly better than the baseline model?"
   ]
  },
  {
   "cell_type": "code",
   "execution_count": 43,
   "metadata": {},
   "outputs": [
    {
     "name": "stdout",
     "output_type": "stream",
     "text": [
      "\n",
      "R-squared =  0.457\n",
      "p-value for model significance =  6.692470646863376e-34\n",
      "The model is significant!\n"
     ]
    }
   ],
   "source": [
    "# calculate r squared first\n",
    "r2 = model.rsquared\n",
    "print('\\nR-squared = ', round(r2,3))\n",
    "\n",
    "# if p is low, we reject the null (aka reject that the feature is not significant)\n",
    "f_pval = model.f_pvalue\n",
    "print(\"p-value for model significance = \", f_pval)\n",
    "print(\"The model is significant!\")"
   ]
  },
  {
   "cell_type": "markdown",
   "metadata": {},
   "source": [
    "6. Plot the residuals for the linear regression model that you made."
   ]
  },
  {
   "cell_type": "code",
   "execution_count": 44,
   "metadata": {},
   "outputs": [
    {
     "data": {
      "text/plain": [
       "<matplotlib.axes._subplots.AxesSubplot at 0x7f9209fab810>"
      ]
     },
     "execution_count": 44,
     "metadata": {},
     "output_type": "execute_result"
    },
    {
     "data": {
      "image/png": "[encoded data removed]",
      "text/plain": [
       "<Figure size 1440x648 with 2 Axes>"
      ]
     },
     "metadata": {
      "needs_background": "light"
     },
     "output_type": "display_data"
    }
   ],
   "source": [
    "# Model\n",
    "plot_residuals(residuals.y, residuals.baseline, residuals.y_hat)"
   ]
  }
 ],
 "metadata": {
  "kernelspec": {
   "display_name": "Python 3",
   "language": "python",
   "name": "python3"
  },
  "language_info": {
   "codemirror_mode": {
    "name": "ipython",
    "version": 3
   },
   "file_extension": ".py",
   "mimetype": "text/x-python",
   "name": "python",
   "nbconvert_exporter": "python",
   "pygments_lexer": "ipython3",
   "version": "3.7.6"
  }
 },
 "nbformat": 4,
 "nbformat_minor": 4
}
