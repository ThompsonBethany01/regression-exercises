{
 "cells": [
  {
   "cell_type": "markdown",
   "metadata": {},
   "source": [
    "# Visualization Warmup"
   ]
  },
  {
   "cell_type": "code",
   "execution_count": 6,
   "metadata": {},
   "outputs": [],
   "source": [
    "import matplotlib as mpl\n",
    "import matplotlib.pyplot as plt\n",
    "import pandas as pd\n",
    "import numpy as np\n",
    "import seaborn as sns"
   ]
  },
  {
   "cell_type": "code",
   "execution_count": 1,
   "metadata": {},
   "outputs": [],
   "source": [
    "url = 'https://gist.githubusercontent.com/zgulde/018f5d601efc79cb741a7aba92f51d29/raw/c08f1c09f605b43e9a354890f9dd68f296e76dc4/students.csv'\n",
    "df = pd.read_csv(url)"
   ]
  },
  {
   "cell_type": "markdown",
   "metadata": {},
   "source": [
    "## df contains (fake) data on students time at codeup:\n",
    "\n",
    "#### ml_coffee: coffee consumption in milliliters\n",
    "#### syntax_errors: number of syntax errors\n",
    "#### p_days_absent: percentage of days absent"
   ]
  },
  {
   "cell_type": "code",
   "execution_count": 2,
   "metadata": {},
   "outputs": [
    {
     "data": {
      "text/html": [
       "<div>\n",
       "<style scoped>\n",
       "    .dataframe tbody tr th:only-of-type {\n",
       "        vertical-align: middle;\n",
       "    }\n",
       "\n",
       "    .dataframe tbody tr th {\n",
       "        vertical-align: top;\n",
       "    }\n",
       "\n",
       "    .dataframe thead th {\n",
       "        text-align: right;\n",
       "    }\n",
       "</style>\n",
       "<table border=\"1\" class=\"dataframe\">\n",
       "  <thead>\n",
       "    <tr style=\"text-align: right;\">\n",
       "      <th></th>\n",
       "      <th>ml_coffee</th>\n",
       "      <th>syntax_errors</th>\n",
       "      <th>p_days_absent</th>\n",
       "    </tr>\n",
       "  </thead>\n",
       "  <tbody>\n",
       "    <tr>\n",
       "      <th>0</th>\n",
       "      <td>16225</td>\n",
       "      <td>5.071306e+10</td>\n",
       "      <td>0.038821</td>\n",
       "    </tr>\n",
       "    <tr>\n",
       "      <th>1</th>\n",
       "      <td>18230</td>\n",
       "      <td>5.199823e+10</td>\n",
       "      <td>0.022748</td>\n",
       "    </tr>\n",
       "    <tr>\n",
       "      <th>2</th>\n",
       "      <td>15877</td>\n",
       "      <td>5.072630e+10</td>\n",
       "      <td>0.036627</td>\n",
       "    </tr>\n",
       "    <tr>\n",
       "      <th>3</th>\n",
       "      <td>8263</td>\n",
       "      <td>4.907919e+10</td>\n",
       "      <td>0.041293</td>\n",
       "    </tr>\n",
       "    <tr>\n",
       "      <th>4</th>\n",
       "      <td>13935</td>\n",
       "      <td>5.145114e+10</td>\n",
       "      <td>0.081544</td>\n",
       "    </tr>\n",
       "  </tbody>\n",
       "</table>\n",
       "</div>"
      ],
      "text/plain": [
       "   ml_coffee  syntax_errors  p_days_absent\n",
       "0      16225   5.071306e+10       0.038821\n",
       "1      18230   5.199823e+10       0.022748\n",
       "2      15877   5.072630e+10       0.036627\n",
       "3       8263   4.907919e+10       0.041293\n",
       "4      13935   5.145114e+10       0.081544"
      ]
     },
     "execution_count": 2,
     "metadata": {},
     "output_type": "execute_result"
    }
   ],
   "source": [
    "df.head()"
   ]
  },
  {
   "cell_type": "code",
   "execution_count": 3,
   "metadata": {},
   "outputs": [
    {
     "data": {
      "text/html": [
       "<div>\n",
       "<style scoped>\n",
       "    .dataframe tbody tr th:only-of-type {\n",
       "        vertical-align: middle;\n",
       "    }\n",
       "\n",
       "    .dataframe tbody tr th {\n",
       "        vertical-align: top;\n",
       "    }\n",
       "\n",
       "    .dataframe thead th {\n",
       "        text-align: right;\n",
       "    }\n",
       "</style>\n",
       "<table border=\"1\" class=\"dataframe\">\n",
       "  <thead>\n",
       "    <tr style=\"text-align: right;\">\n",
       "      <th></th>\n",
       "      <th>ml_coffee</th>\n",
       "      <th>syntax_errors</th>\n",
       "      <th>p_days_absent</th>\n",
       "    </tr>\n",
       "  </thead>\n",
       "  <tbody>\n",
       "    <tr>\n",
       "      <th>count</th>\n",
       "      <td>100.000000</td>\n",
       "      <td>1.000000e+02</td>\n",
       "      <td>100.000000</td>\n",
       "    </tr>\n",
       "    <tr>\n",
       "      <th>mean</th>\n",
       "      <td>10451.680000</td>\n",
       "      <td>4.999812e+10</td>\n",
       "      <td>0.059676</td>\n",
       "    </tr>\n",
       "    <tr>\n",
       "      <th>std</th>\n",
       "      <td>5630.364579</td>\n",
       "      <td>1.043300e+09</td>\n",
       "      <td>0.031393</td>\n",
       "    </tr>\n",
       "    <tr>\n",
       "      <th>min</th>\n",
       "      <td>596.000000</td>\n",
       "      <td>4.787178e+10</td>\n",
       "      <td>0.004912</td>\n",
       "    </tr>\n",
       "    <tr>\n",
       "      <th>25%</th>\n",
       "      <td>5663.500000</td>\n",
       "      <td>4.908466e+10</td>\n",
       "      <td>0.037376</td>\n",
       "    </tr>\n",
       "    <tr>\n",
       "      <th>50%</th>\n",
       "      <td>10122.500000</td>\n",
       "      <td>4.989071e+10</td>\n",
       "      <td>0.061032</td>\n",
       "    </tr>\n",
       "    <tr>\n",
       "      <th>75%</th>\n",
       "      <td>15374.250000</td>\n",
       "      <td>5.096538e+10</td>\n",
       "      <td>0.082045</td>\n",
       "    </tr>\n",
       "    <tr>\n",
       "      <th>max</th>\n",
       "      <td>19593.000000</td>\n",
       "      <td>5.206253e+10</td>\n",
       "      <td>0.119758</td>\n",
       "    </tr>\n",
       "  </tbody>\n",
       "</table>\n",
       "</div>"
      ],
      "text/plain": [
       "          ml_coffee  syntax_errors  p_days_absent\n",
       "count    100.000000   1.000000e+02     100.000000\n",
       "mean   10451.680000   4.999812e+10       0.059676\n",
       "std     5630.364579   1.043300e+09       0.031393\n",
       "min      596.000000   4.787178e+10       0.004912\n",
       "25%     5663.500000   4.908466e+10       0.037376\n",
       "50%    10122.500000   4.989071e+10       0.061032\n",
       "75%    15374.250000   5.096538e+10       0.082045\n",
       "max    19593.000000   5.206253e+10       0.119758"
      ]
     },
     "execution_count": 3,
     "metadata": {},
     "output_type": "execute_result"
    }
   ],
   "source": [
    "df.describe()"
   ]
  },
  {
   "cell_type": "code",
   "execution_count": 5,
   "metadata": {},
   "outputs": [
    {
     "name": "stdout",
     "output_type": "stream",
     "text": [
      "<class 'pandas.core.frame.DataFrame'>\n",
      "RangeIndex: 100 entries, 0 to 99\n",
      "Data columns (total 3 columns):\n",
      " #   Column         Non-Null Count  Dtype  \n",
      "---  ------         --------------  -----  \n",
      " 0   ml_coffee      100 non-null    int64  \n",
      " 1   syntax_errors  100 non-null    float64\n",
      " 2   p_days_absent  100 non-null    float64\n",
      "dtypes: float64(2), int64(1)\n",
      "memory usage: 2.5 KB\n"
     ]
    }
   ],
   "source": [
    "df.info()"
   ]
  },
  {
   "cell_type": "code",
   "execution_count": 23,
   "metadata": {},
   "outputs": [
    {
     "data": {
      "text/html": [
       "<div>\n",
       "<style scoped>\n",
       "    .dataframe tbody tr th:only-of-type {\n",
       "        vertical-align: middle;\n",
       "    }\n",
       "\n",
       "    .dataframe tbody tr th {\n",
       "        vertical-align: top;\n",
       "    }\n",
       "\n",
       "    .dataframe thead th {\n",
       "        text-align: right;\n",
       "    }\n",
       "</style>\n",
       "<table border=\"1\" class=\"dataframe\">\n",
       "  <thead>\n",
       "    <tr style=\"text-align: right;\">\n",
       "      <th></th>\n",
       "      <th>ml_coffee</th>\n",
       "      <th>syntax_errors</th>\n",
       "      <th>p_days_absent</th>\n",
       "      <th>cups_coffee</th>\n",
       "    </tr>\n",
       "  </thead>\n",
       "  <tbody>\n",
       "    <tr>\n",
       "      <th>0</th>\n",
       "      <td>16225</td>\n",
       "      <td>5.071306e+10</td>\n",
       "      <td>0.038821</td>\n",
       "      <td>68.579133</td>\n",
       "    </tr>\n",
       "    <tr>\n",
       "      <th>1</th>\n",
       "      <td>18230</td>\n",
       "      <td>5.199823e+10</td>\n",
       "      <td>0.022748</td>\n",
       "      <td>77.053781</td>\n",
       "    </tr>\n",
       "    <tr>\n",
       "      <th>2</th>\n",
       "      <td>15877</td>\n",
       "      <td>5.072630e+10</td>\n",
       "      <td>0.036627</td>\n",
       "      <td>67.108222</td>\n",
       "    </tr>\n",
       "    <tr>\n",
       "      <th>3</th>\n",
       "      <td>8263</td>\n",
       "      <td>4.907919e+10</td>\n",
       "      <td>0.041293</td>\n",
       "      <td>34.925694</td>\n",
       "    </tr>\n",
       "    <tr>\n",
       "      <th>4</th>\n",
       "      <td>13935</td>\n",
       "      <td>5.145114e+10</td>\n",
       "      <td>0.081544</td>\n",
       "      <td>58.899860</td>\n",
       "    </tr>\n",
       "  </tbody>\n",
       "</table>\n",
       "</div>"
      ],
      "text/plain": [
       "   ml_coffee  syntax_errors  p_days_absent  cups_coffee\n",
       "0      16225   5.071306e+10       0.038821    68.579133\n",
       "1      18230   5.199823e+10       0.022748    77.053781\n",
       "2      15877   5.072630e+10       0.036627    67.108222\n",
       "3       8263   4.907919e+10       0.041293    34.925694\n",
       "4      13935   5.145114e+10       0.081544    58.899860"
      ]
     },
     "execution_count": 23,
     "metadata": {},
     "output_type": "execute_result"
    }
   ],
   "source": [
    "df['cups_coffee'] = df.ml_coffee / 236.588\n",
    "df.head()"
   ]
  },
  {
   "cell_type": "code",
   "execution_count": 38,
   "metadata": {},
   "outputs": [],
   "source": [
    "df['syntax_formatted'] = df.syntax_errors / 1000000000"
   ]
  },
  {
   "cell_type": "code",
   "execution_count": 39,
   "metadata": {},
   "outputs": [
    {
     "data": {
      "text/html": [
       "<div>\n",
       "<style scoped>\n",
       "    .dataframe tbody tr th:only-of-type {\n",
       "        vertical-align: middle;\n",
       "    }\n",
       "\n",
       "    .dataframe tbody tr th {\n",
       "        vertical-align: top;\n",
       "    }\n",
       "\n",
       "    .dataframe thead th {\n",
       "        text-align: right;\n",
       "    }\n",
       "</style>\n",
       "<table border=\"1\" class=\"dataframe\">\n",
       "  <thead>\n",
       "    <tr style=\"text-align: right;\">\n",
       "      <th></th>\n",
       "      <th>ml_coffee</th>\n",
       "      <th>syntax_errors</th>\n",
       "      <th>p_days_absent</th>\n",
       "      <th>cups_coffee</th>\n",
       "      <th>syntax_formatted</th>\n",
       "    </tr>\n",
       "  </thead>\n",
       "  <tbody>\n",
       "    <tr>\n",
       "      <th>count</th>\n",
       "      <td>100.000000</td>\n",
       "      <td>1.000000e+02</td>\n",
       "      <td>100.000000</td>\n",
       "      <td>100.000000</td>\n",
       "      <td>100.000000</td>\n",
       "    </tr>\n",
       "    <tr>\n",
       "      <th>mean</th>\n",
       "      <td>10451.680000</td>\n",
       "      <td>4.999812e+10</td>\n",
       "      <td>0.059676</td>\n",
       "      <td>44.176712</td>\n",
       "      <td>49.998116</td>\n",
       "    </tr>\n",
       "    <tr>\n",
       "      <th>std</th>\n",
       "      <td>5630.364579</td>\n",
       "      <td>1.043300e+09</td>\n",
       "      <td>0.031393</td>\n",
       "      <td>23.798183</td>\n",
       "      <td>1.043300</td>\n",
       "    </tr>\n",
       "    <tr>\n",
       "      <th>min</th>\n",
       "      <td>596.000000</td>\n",
       "      <td>4.787178e+10</td>\n",
       "      <td>0.004912</td>\n",
       "      <td>2.519147</td>\n",
       "      <td>47.871778</td>\n",
       "    </tr>\n",
       "    <tr>\n",
       "      <th>25%</th>\n",
       "      <td>5663.500000</td>\n",
       "      <td>4.908466e+10</td>\n",
       "      <td>0.037376</td>\n",
       "      <td>23.938239</td>\n",
       "      <td>49.084657</td>\n",
       "    </tr>\n",
       "    <tr>\n",
       "      <th>50%</th>\n",
       "      <td>10122.500000</td>\n",
       "      <td>4.989071e+10</td>\n",
       "      <td>0.061032</td>\n",
       "      <td>42.785348</td>\n",
       "      <td>49.890705</td>\n",
       "    </tr>\n",
       "    <tr>\n",
       "      <th>75%</th>\n",
       "      <td>15374.250000</td>\n",
       "      <td>5.096538e+10</td>\n",
       "      <td>0.082045</td>\n",
       "      <td>64.983220</td>\n",
       "      <td>50.965383</td>\n",
       "    </tr>\n",
       "    <tr>\n",
       "      <th>max</th>\n",
       "      <td>19593.000000</td>\n",
       "      <td>5.206253e+10</td>\n",
       "      <td>0.119758</td>\n",
       "      <td>82.814851</td>\n",
       "      <td>52.062527</td>\n",
       "    </tr>\n",
       "  </tbody>\n",
       "</table>\n",
       "</div>"
      ],
      "text/plain": [
       "          ml_coffee  syntax_errors  p_days_absent  cups_coffee  \\\n",
       "count    100.000000   1.000000e+02     100.000000   100.000000   \n",
       "mean   10451.680000   4.999812e+10       0.059676    44.176712   \n",
       "std     5630.364579   1.043300e+09       0.031393    23.798183   \n",
       "min      596.000000   4.787178e+10       0.004912     2.519147   \n",
       "25%     5663.500000   4.908466e+10       0.037376    23.938239   \n",
       "50%    10122.500000   4.989071e+10       0.061032    42.785348   \n",
       "75%    15374.250000   5.096538e+10       0.082045    64.983220   \n",
       "max    19593.000000   5.206253e+10       0.119758    82.814851   \n",
       "\n",
       "       syntax_formatted  \n",
       "count        100.000000  \n",
       "mean          49.998116  \n",
       "std            1.043300  \n",
       "min           47.871778  \n",
       "25%           49.084657  \n",
       "50%           49.890705  \n",
       "75%           50.965383  \n",
       "max           52.062527  "
      ]
     },
     "execution_count": 39,
     "metadata": {},
     "output_type": "execute_result"
    }
   ],
   "source": [
    "df.describe()"
   ]
  },
  {
   "cell_type": "markdown",
   "metadata": {},
   "source": [
    "# 1. Create a scatter plot of syntax_errors and ml_coffee. Make sure to give your visual an appropriate title and labels."
   ]
  },
  {
   "cell_type": "code",
   "execution_count": 40,
   "metadata": {},
   "outputs": [
    {
     "data": {
      "text/plain": [
       "Text(0, 0.5, 'Coffee Consumption (ml)')"
      ]
     },
     "execution_count": 40,
     "metadata": {},
     "output_type": "execute_result"
    },
    {
     "data": {
      "image/png": "[encoded data removed]",
      "text/plain": [
       "<Figure size 936x648 with 1 Axes>"
      ]
     },
     "metadata": {
      "needs_background": "light"
     },
     "output_type": "display_data"
    }
   ],
   "source": [
    "plt.figure(figsize=(13,9))\n",
    "sns.scatterplot(x='syntax_formatted',y='cups_coffee',data=df)\n",
    "plt.title('Syntax Errors vs Coffee Consumption')\n",
    "plt.xlabel('Number of Syntax Errors')\n",
    "plt.ylabel('Coffee Consumption (ml)')"
   ]
  },
  {
   "cell_type": "markdown",
   "metadata": {},
   "source": [
    "# 2. Create a scatter plot of p_days_absent and ml_coffee. Make sure to give your visual an appropriate title and labels."
   ]
  },
  {
   "cell_type": "code",
   "execution_count": 27,
   "metadata": {},
   "outputs": [
    {
     "data": {
      "text/plain": [
       "Text(0, 0.5, 'Coffee Consumption (ml)')"
      ]
     },
     "execution_count": 27,
     "metadata": {},
     "output_type": "execute_result"
    },
    {
     "data": {
      "image/png": "[encoded data removed]",
      "text/plain": [
       "<Figure size 936x648 with 1 Axes>"
      ]
     },
     "metadata": {
      "needs_background": "light"
     },
     "output_type": "display_data"
    }
   ],
   "source": [
    "plt.figure(figsize=(13,9))\n",
    "sns.scatterplot(x='p_days_absent',y='cups_coffee',data=df)\n",
    "plt.title('Percentage of Days Absent vs Coffee Consumption')\n",
    "plt.xlabel('Days Absent %')\n",
    "plt.ylabel('Coffee Consumption (ml)')"
   ]
  },
  {
   "cell_type": "markdown",
   "metadata": {},
   "source": [
    "# 3. Perform any other customizations you think will help to the plots you have created"
   ]
  }
 ],
 "metadata": {
  "kernelspec": {
   "display_name": "Python 3",
   "language": "python",
   "name": "python3"
  },
  "language_info": {
   "codemirror_mode": {
    "name": "ipython",
    "version": 3
   },
   "file_extension": ".py",
   "mimetype": "text/x-python",
   "name": "python",
   "nbconvert_exporter": "python",
   "pygments_lexer": "ipython3",
   "version": "3.7.6"
  }
 },
 "nbformat": 4,
 "nbformat_minor": 4
}
