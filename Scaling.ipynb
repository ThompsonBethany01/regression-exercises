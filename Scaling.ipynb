{
 "cells": [
  {
   "cell_type": "code",
   "execution_count": 1,
   "metadata": {},
   "outputs": [],
   "source": [
    "import acquire\n",
    "import prepare\n",
    "import wrangle\n",
    "import pandas as pd\n",
    "import numpy as np\n",
    "import matplotlib.pyplot as plt\n",
    "import sklearn.preprocessing"
   ]
  },
  {
   "cell_type": "code",
   "execution_count": 2,
   "metadata": {},
   "outputs": [
    {
     "name": "stdout",
     "output_type": "stream",
     "text": [
      "No duplicates found.\n",
      "Dummy variables for gender created as \"male\".\n",
      "Yes/No column values changed to boolean, 0 as no and 1 as yes\n",
      "Combined variable for phone_service + multiple lines created.\n",
      "Combined variable for partner + dependents created.\n",
      "Simplified features: security, backup, protection, support, and payment type.\n",
      "Column for service type added.\n",
      "Added feature for tenure in years.\n",
      "Converted total_charges to float for easier manipulation.\n",
      "Data prep complete.\n",
      "\n",
      "\n"
     ]
    }
   ],
   "source": [
    "df = wrangle.prep_telco_df()"
   ]
  },
  {
   "cell_type": "code",
   "execution_count": 3,
   "metadata": {},
   "outputs": [
    {
     "name": "stdout",
     "output_type": "stream",
     "text": [
      "train shape:  (5070, 22) , validate shape:  (1268, 22) , test shape:  (705, 22)\n",
      "\n",
      "train percent:  72.0 , validate percent:  18.0 , test percent:  10.0\n"
     ]
    }
   ],
   "source": [
    "train, test, validate = wrangle.train_test_validate(df)"
   ]
  },
  {
   "cell_type": "code",
   "execution_count": 4,
   "metadata": {},
   "outputs": [
    {
     "data": {
      "text/html": [
       "<div>\n",
       "<style scoped>\n",
       "    .dataframe tbody tr th:only-of-type {\n",
       "        vertical-align: middle;\n",
       "    }\n",
       "\n",
       "    .dataframe tbody tr th {\n",
       "        vertical-align: top;\n",
       "    }\n",
       "\n",
       "    .dataframe thead th {\n",
       "        text-align: right;\n",
       "    }\n",
       "</style>\n",
       "<table border=\"1\" class=\"dataframe\">\n",
       "  <thead>\n",
       "    <tr style=\"text-align: right;\">\n",
       "      <th></th>\n",
       "      <th>855</th>\n",
       "    </tr>\n",
       "  </thead>\n",
       "  <tbody>\n",
       "    <tr>\n",
       "      <th>customer_id</th>\n",
       "      <td>6923-EFPNL</td>\n",
       "    </tr>\n",
       "    <tr>\n",
       "      <th>senior_citizen</th>\n",
       "      <td>0</td>\n",
       "    </tr>\n",
       "    <tr>\n",
       "      <th>tenure_months</th>\n",
       "      <td>4</td>\n",
       "    </tr>\n",
       "    <tr>\n",
       "      <th>phone_service</th>\n",
       "      <td>2</td>\n",
       "    </tr>\n",
       "    <tr>\n",
       "      <th>internet_service_type_id</th>\n",
       "      <td>1</td>\n",
       "    </tr>\n",
       "    <tr>\n",
       "      <th>online_security</th>\n",
       "      <td>0</td>\n",
       "    </tr>\n",
       "    <tr>\n",
       "      <th>online_backup</th>\n",
       "      <td>0</td>\n",
       "    </tr>\n",
       "    <tr>\n",
       "      <th>device_protection</th>\n",
       "      <td>0</td>\n",
       "    </tr>\n",
       "    <tr>\n",
       "      <th>tech_support</th>\n",
       "      <td>0</td>\n",
       "    </tr>\n",
       "    <tr>\n",
       "      <th>streaming_tv</th>\n",
       "      <td>0</td>\n",
       "    </tr>\n",
       "    <tr>\n",
       "      <th>streaming_movies</th>\n",
       "      <td>0</td>\n",
       "    </tr>\n",
       "    <tr>\n",
       "      <th>contract_type_id</th>\n",
       "      <td>1</td>\n",
       "    </tr>\n",
       "    <tr>\n",
       "      <th>paperless_billing</th>\n",
       "      <td>0</td>\n",
       "    </tr>\n",
       "    <tr>\n",
       "      <th>auto_payment</th>\n",
       "      <td>1</td>\n",
       "    </tr>\n",
       "    <tr>\n",
       "      <th>monthly_charges</th>\n",
       "      <td>51.75</td>\n",
       "    </tr>\n",
       "    <tr>\n",
       "      <th>total_charges</th>\n",
       "      <td>201.1</td>\n",
       "    </tr>\n",
       "    <tr>\n",
       "      <th>churn</th>\n",
       "      <td>1</td>\n",
       "    </tr>\n",
       "    <tr>\n",
       "      <th>contract_type</th>\n",
       "      <td>0</td>\n",
       "    </tr>\n",
       "    <tr>\n",
       "      <th>Male</th>\n",
       "      <td>1</td>\n",
       "    </tr>\n",
       "    <tr>\n",
       "      <th>part_depd</th>\n",
       "      <td>0</td>\n",
       "    </tr>\n",
       "    <tr>\n",
       "      <th>service_type</th>\n",
       "      <td>3</td>\n",
       "    </tr>\n",
       "    <tr>\n",
       "      <th>tenure_years</th>\n",
       "      <td>0.33</td>\n",
       "    </tr>\n",
       "  </tbody>\n",
       "</table>\n",
       "</div>"
      ],
      "text/plain": [
       "                                 855\n",
       "customer_id               6923-EFPNL\n",
       "senior_citizen                     0\n",
       "tenure_months                      4\n",
       "phone_service                      2\n",
       "internet_service_type_id           1\n",
       "online_security                    0\n",
       "online_backup                      0\n",
       "device_protection                  0\n",
       "tech_support                       0\n",
       "streaming_tv                       0\n",
       "streaming_movies                   0\n",
       "contract_type_id                   1\n",
       "paperless_billing                  0\n",
       "auto_payment                       1\n",
       "monthly_charges                51.75\n",
       "total_charges                  201.1\n",
       "churn                              1\n",
       "contract_type                      0\n",
       "Male                               1\n",
       "part_depd                          0\n",
       "service_type                       3\n",
       "tenure_years                    0.33"
      ]
     },
     "execution_count": 4,
     "metadata": {},
     "output_type": "execute_result"
    }
   ],
   "source": [
    "train.head(1).T"
   ]
  },
  {
   "cell_type": "markdown",
   "metadata": {},
   "source": [
    "# Use the telco dataset. Once you are finished, you may wish to repeat the exercises on another dataset for additional practice.\n",
    "\n",
    "1. Apply the scalers we talked about in this lesson to your data and visualize the results in a way you find helpful."
   ]
  },
  {
   "cell_type": "markdown",
   "metadata": {},
   "source": [
    "# Scaling Total Charges"
   ]
  },
  {
   "cell_type": "code",
   "execution_count": 5,
   "metadata": {},
   "outputs": [
    {
     "data": {
      "text/plain": [
       "(array([1987.,  854.,  478.,  357.,  326.,  300.,  287.,  230.,  165.,\n",
       "          86.]),\n",
       " array([   0.  ,  868.48, 1736.96, 2605.44, 3473.92, 4342.4 , 5210.88,\n",
       "        6079.36, 6947.84, 7816.32, 8684.8 ]),\n",
       " <a list of 10 Patch objects>)"
      ]
     },
     "execution_count": 5,
     "metadata": {},
     "output_type": "execute_result"
    },
    {
     "data": {
      "image/png": "[encoded data removed]",
      "text/plain": [
       "<Figure size 432x288 with 1 Axes>"
      ]
     },
     "metadata": {
      "needs_background": "light"
     },
     "output_type": "display_data"
    }
   ],
   "source": [
    "plt.hist(train.total_charges)"
   ]
  },
  {
   "cell_type": "code",
   "execution_count": 6,
   "metadata": {},
   "outputs": [
    {
     "name": "stderr",
     "output_type": "stream",
     "text": [
      "/usr/local/anaconda3/lib/python3.7/site-packages/ipykernel_launcher.py:10: SettingWithCopyWarning: \n",
      "A value is trying to be set on a copy of a slice from a DataFrame.\n",
      "Try using .loc[row_indexer,col_indexer] = value instead\n",
      "\n",
      "See the caveats in the documentation: https://pandas.pydata.org/pandas-docs/stable/user_guide/indexing.html#returning-a-view-versus-a-copy\n",
      "  # Remove the CWD from sys.path while we load stuff.\n"
     ]
    }
   ],
   "source": [
    "# 1. create the object - using mon max scalar\n",
    "scaler1 = sklearn.preprocessing.MinMaxScaler()\n",
    "\n",
    "# 2. fit the object\n",
    "scaler1.fit(train[['total_charges']])\n",
    "\n",
    "# 3. use the object\n",
    "train['total_charges_scaled'] = scaler1.transform(train[['total_charges']])\n",
    "test['total_charges_scaled'] = scaler1.transform(test[['total_charges']])\n",
    "validate['total_charges_scaled'] = scaler1.transform(validate[['total_charges']])"
   ]
  },
  {
   "cell_type": "code",
   "execution_count": 7,
   "metadata": {},
   "outputs": [
    {
     "data": {
      "text/plain": [
       "<matplotlib.axes._subplots.AxesSubplot at 0x7fb000f2de10>"
      ]
     },
     "execution_count": 7,
     "metadata": {},
     "output_type": "execute_result"
    },
    {
     "data": {
      "image/png": "[encoded data removed]",
      "text/plain": [
       "<Figure size 936x432 with 2 Axes>"
      ]
     },
     "metadata": {
      "needs_background": "light"
     },
     "output_type": "display_data"
    }
   ],
   "source": [
    "plt.figure(figsize=(13, 6))\n",
    "plt.subplot(121)\n",
    "train.total_charges.plot.hist(title='Original')\n",
    "plt.subplot(122)\n",
    "train.total_charges_scaled.plot.hist(title='Min-Max Scaled')"
   ]
  },
  {
   "cell_type": "markdown",
   "metadata": {},
   "source": [
    "# Scaling Monthly Charges"
   ]
  },
  {
   "cell_type": "code",
   "execution_count": 8,
   "metadata": {},
   "outputs": [
    {
     "data": {
      "text/plain": [
       "(array([1136.,  139.,  268.,  462.,  329.,  662.,  709.,  608.,  543.,\n",
       "         214.]),\n",
       " array([ 18.25,  28.3 ,  38.35,  48.4 ,  58.45,  68.5 ,  78.55,  88.6 ,\n",
       "         98.65, 108.7 , 118.75]),\n",
       " <a list of 10 Patch objects>)"
      ]
     },
     "execution_count": 8,
     "metadata": {},
     "output_type": "execute_result"
    },
    {
     "data": {
      "image/png": "[encoded data removed]",
      "text/plain": [
       "<Figure size 432x288 with 1 Axes>"
      ]
     },
     "metadata": {
      "needs_background": "light"
     },
     "output_type": "display_data"
    }
   ],
   "source": [
    "plt.hist(train.monthly_charges)"
   ]
  },
  {
   "cell_type": "code",
   "execution_count": 9,
   "metadata": {},
   "outputs": [
    {
     "name": "stderr",
     "output_type": "stream",
     "text": [
      "/usr/local/anaconda3/lib/python3.7/site-packages/ipykernel_launcher.py:10: SettingWithCopyWarning: \n",
      "A value is trying to be set on a copy of a slice from a DataFrame.\n",
      "Try using .loc[row_indexer,col_indexer] = value instead\n",
      "\n",
      "See the caveats in the documentation: https://pandas.pydata.org/pandas-docs/stable/user_guide/indexing.html#returning-a-view-versus-a-copy\n",
      "  # Remove the CWD from sys.path while we load stuff.\n"
     ]
    },
    {
     "data": {
      "text/plain": [
       "Text(0.5, 1.0, 'Standard Scaled')"
      ]
     },
     "execution_count": 9,
     "metadata": {},
     "output_type": "execute_result"
    },
    {
     "data": {
      "image/png": "[encoded data removed]",
      "text/plain": [
       "<Figure size 936x432 with 2 Axes>"
      ]
     },
     "metadata": {
      "needs_background": "light"
     },
     "output_type": "display_data"
    }
   ],
   "source": [
    "# 1. Create the object - using standard scalar\n",
    "scaler2 = sklearn.preprocessing.StandardScaler()\n",
    "\n",
    "# 2. Fit to the train data only\n",
    "scaler2.fit(train[['monthly_charges']])\n",
    "\n",
    "# 3. use the object\n",
    "train['monthly_charges_scaled'] = scaler2.transform(train[['monthly_charges']])\n",
    "test['monthly_charges_scaled'] = scaler2.transform(test[['monthly_charges']])\n",
    "validate['monthly_charges_scaled'] = scaler2.transform(validate[['monthly_charges']])\n",
    "\n",
    "plt.figure(figsize=(13, 6))\n",
    "plt.subplot(121)\n",
    "plt.hist(train.monthly_charges, bins=25, ec='black')\n",
    "plt.title('Original')\n",
    "plt.subplot(122)\n",
    "plt.hist(train.monthly_charges_scaled, bins=25, ec='black')\n",
    "plt.title('Standard Scaled')"
   ]
  },
  {
   "cell_type": "markdown",
   "metadata": {},
   "source": [
    "# Scaling Tenure Months"
   ]
  },
  {
   "cell_type": "code",
   "execution_count": 10,
   "metadata": {},
   "outputs": [
    {
     "data": {
      "text/plain": [
       "(array([1211.,  549.,  400.,  378.,  341.,  351.,  324.,  349.,  360.,\n",
       "         807.]),\n",
       " array([ 0. ,  7.2, 14.4, 21.6, 28.8, 36. , 43.2, 50.4, 57.6, 64.8, 72. ]),\n",
       " <a list of 10 Patch objects>)"
      ]
     },
     "execution_count": 10,
     "metadata": {},
     "output_type": "execute_result"
    },
    {
     "data": {
      "image/png": "[encoded data removed]",
      "text/plain": [
       "<Figure size 432x288 with 1 Axes>"
      ]
     },
     "metadata": {
      "needs_background": "light"
     },
     "output_type": "display_data"
    }
   ],
   "source": [
    "plt.hist(train.tenure_months)"
   ]
  },
  {
   "cell_type": "code",
   "execution_count": 11,
   "metadata": {},
   "outputs": [
    {
     "name": "stderr",
     "output_type": "stream",
     "text": [
      "/usr/local/anaconda3/lib/python3.7/site-packages/ipykernel_launcher.py:10: SettingWithCopyWarning: \n",
      "A value is trying to be set on a copy of a slice from a DataFrame.\n",
      "Try using .loc[row_indexer,col_indexer] = value instead\n",
      "\n",
      "See the caveats in the documentation: https://pandas.pydata.org/pandas-docs/stable/user_guide/indexing.html#returning-a-view-versus-a-copy\n",
      "  # Remove the CWD from sys.path while we load stuff.\n"
     ]
    },
    {
     "data": {
      "text/plain": [
       "Text(0.5, 1.0, 'Robust Scaled')"
      ]
     },
     "execution_count": 11,
     "metadata": {},
     "output_type": "execute_result"
    },
    {
     "data": {
      "image/png": "[encoded data removed]",
      "text/plain": [
       "<Figure size 936x432 with 2 Axes>"
      ]
     },
     "metadata": {
      "needs_background": "light"
     },
     "output_type": "display_data"
    }
   ],
   "source": [
    "# 1. Create the object\n",
    "scaler3 = sklearn.preprocessing.RobustScaler()\n",
    "\n",
    "# 2. Fit to train data only\n",
    "scaler3.fit(train[['tenure_months']])\n",
    "\n",
    "# 3. use the object\n",
    "train['tenure_months_scaled'] = scaler3.transform(train[['tenure_months']])\n",
    "test['tenure_months_scaled'] = scaler3.transform(test[['tenure_months']])\n",
    "validate['tenure_months_scaled'] = scaler3.transform(validate[['tenure_months']])\n",
    "\n",
    "plt.figure(figsize=(13, 6))\n",
    "plt.subplot(121)\n",
    "plt.hist(train.tenure_months, bins=25, ec='black')\n",
    "plt.title('Original')\n",
    "plt.subplot(122)\n",
    "plt.hist(train.tenure_months_scaled, bins=25, ec='black')\n",
    "plt.title('Robust Scaled')"
   ]
  },
  {
   "cell_type": "code",
   "execution_count": 12,
   "metadata": {},
   "outputs": [
    {
     "data": {
      "text/html": [
       "<div>\n",
       "<style scoped>\n",
       "    .dataframe tbody tr th:only-of-type {\n",
       "        vertical-align: middle;\n",
       "    }\n",
       "\n",
       "    .dataframe tbody tr th {\n",
       "        vertical-align: top;\n",
       "    }\n",
       "\n",
       "    .dataframe thead th {\n",
       "        text-align: right;\n",
       "    }\n",
       "</style>\n",
       "<table border=\"1\" class=\"dataframe\">\n",
       "  <thead>\n",
       "    <tr style=\"text-align: right;\">\n",
       "      <th></th>\n",
       "      <th>customer_id</th>\n",
       "      <th>senior_citizen</th>\n",
       "      <th>tenure_months</th>\n",
       "      <th>phone_service</th>\n",
       "      <th>internet_service_type_id</th>\n",
       "      <th>online_security</th>\n",
       "      <th>online_backup</th>\n",
       "      <th>device_protection</th>\n",
       "      <th>tech_support</th>\n",
       "      <th>streaming_tv</th>\n",
       "      <th>...</th>\n",
       "      <th>total_charges</th>\n",
       "      <th>churn</th>\n",
       "      <th>contract_type</th>\n",
       "      <th>Male</th>\n",
       "      <th>part_depd</th>\n",
       "      <th>service_type</th>\n",
       "      <th>tenure_years</th>\n",
       "      <th>total_charges_scaled</th>\n",
       "      <th>monthly_charges_scaled</th>\n",
       "      <th>tenure_months_scaled</th>\n",
       "    </tr>\n",
       "  </thead>\n",
       "  <tbody>\n",
       "    <tr>\n",
       "      <th>855</th>\n",
       "      <td>6923-EFPNL</td>\n",
       "      <td>0</td>\n",
       "      <td>4</td>\n",
       "      <td>2</td>\n",
       "      <td>1</td>\n",
       "      <td>0</td>\n",
       "      <td>0</td>\n",
       "      <td>0</td>\n",
       "      <td>0</td>\n",
       "      <td>0</td>\n",
       "      <td>...</td>\n",
       "      <td>201.10</td>\n",
       "      <td>1</td>\n",
       "      <td>0</td>\n",
       "      <td>1</td>\n",
       "      <td>0</td>\n",
       "      <td>3</td>\n",
       "      <td>0.33</td>\n",
       "      <td>0.023155</td>\n",
       "      <td>-0.439334</td>\n",
       "      <td>-0.510638</td>\n",
       "    </tr>\n",
       "    <tr>\n",
       "      <th>2823</th>\n",
       "      <td>2004-OCQXK</td>\n",
       "      <td>0</td>\n",
       "      <td>1</td>\n",
       "      <td>1</td>\n",
       "      <td>2</td>\n",
       "      <td>0</td>\n",
       "      <td>0</td>\n",
       "      <td>0</td>\n",
       "      <td>0</td>\n",
       "      <td>0</td>\n",
       "      <td>...</td>\n",
       "      <td>81.95</td>\n",
       "      <td>1</td>\n",
       "      <td>0</td>\n",
       "      <td>0</td>\n",
       "      <td>0</td>\n",
       "      <td>3</td>\n",
       "      <td>0.08</td>\n",
       "      <td>0.009436</td>\n",
       "      <td>0.568928</td>\n",
       "      <td>-0.574468</td>\n",
       "    </tr>\n",
       "    <tr>\n",
       "      <th>5656</th>\n",
       "      <td>2542-HYGIQ</td>\n",
       "      <td>0</td>\n",
       "      <td>1</td>\n",
       "      <td>1</td>\n",
       "      <td>0</td>\n",
       "      <td>0</td>\n",
       "      <td>0</td>\n",
       "      <td>0</td>\n",
       "      <td>0</td>\n",
       "      <td>0</td>\n",
       "      <td>...</td>\n",
       "      <td>19.95</td>\n",
       "      <td>0</td>\n",
       "      <td>0</td>\n",
       "      <td>0</td>\n",
       "      <td>0</td>\n",
       "      <td>1</td>\n",
       "      <td>0.08</td>\n",
       "      <td>0.002297</td>\n",
       "      <td>-1.501015</td>\n",
       "      <td>-0.574468</td>\n",
       "    </tr>\n",
       "    <tr>\n",
       "      <th>1016</th>\n",
       "      <td>8205-MQUGY</td>\n",
       "      <td>0</td>\n",
       "      <td>12</td>\n",
       "      <td>1</td>\n",
       "      <td>1</td>\n",
       "      <td>1</td>\n",
       "      <td>0</td>\n",
       "      <td>0</td>\n",
       "      <td>0</td>\n",
       "      <td>0</td>\n",
       "      <td>...</td>\n",
       "      <td>571.15</td>\n",
       "      <td>0</td>\n",
       "      <td>0</td>\n",
       "      <td>1</td>\n",
       "      <td>2</td>\n",
       "      <td>3</td>\n",
       "      <td>1.00</td>\n",
       "      <td>0.065764</td>\n",
       "      <td>-0.524469</td>\n",
       "      <td>-0.340426</td>\n",
       "    </tr>\n",
       "    <tr>\n",
       "      <th>1175</th>\n",
       "      <td>9555-SAHUZ</td>\n",
       "      <td>0</td>\n",
       "      <td>38</td>\n",
       "      <td>1</td>\n",
       "      <td>1</td>\n",
       "      <td>1</td>\n",
       "      <td>1</td>\n",
       "      <td>0</td>\n",
       "      <td>0</td>\n",
       "      <td>0</td>\n",
       "      <td>...</td>\n",
       "      <td>2076.05</td>\n",
       "      <td>0</td>\n",
       "      <td>0</td>\n",
       "      <td>0</td>\n",
       "      <td>2</td>\n",
       "      <td>3</td>\n",
       "      <td>3.17</td>\n",
       "      <td>0.239044</td>\n",
       "      <td>-0.347522</td>\n",
       "      <td>0.212766</td>\n",
       "    </tr>\n",
       "  </tbody>\n",
       "</table>\n",
       "<p>5 rows × 25 columns</p>\n",
       "</div>"
      ],
      "text/plain": [
       "     customer_id  senior_citizen  tenure_months  phone_service  \\\n",
       "855   6923-EFPNL               0              4              2   \n",
       "2823  2004-OCQXK               0              1              1   \n",
       "5656  2542-HYGIQ               0              1              1   \n",
       "1016  8205-MQUGY               0             12              1   \n",
       "1175  9555-SAHUZ               0             38              1   \n",
       "\n",
       "      internet_service_type_id  online_security  online_backup  \\\n",
       "855                          1                0              0   \n",
       "2823                         2                0              0   \n",
       "5656                         0                0              0   \n",
       "1016                         1                1              0   \n",
       "1175                         1                1              1   \n",
       "\n",
       "      device_protection  tech_support  streaming_tv  ...  total_charges  \\\n",
       "855                   0             0             0  ...         201.10   \n",
       "2823                  0             0             0  ...          81.95   \n",
       "5656                  0             0             0  ...          19.95   \n",
       "1016                  0             0             0  ...         571.15   \n",
       "1175                  0             0             0  ...        2076.05   \n",
       "\n",
       "      churn  contract_type  Male  part_depd  service_type  tenure_years  \\\n",
       "855       1              0     1          0             3          0.33   \n",
       "2823      1              0     0          0             3          0.08   \n",
       "5656      0              0     0          0             1          0.08   \n",
       "1016      0              0     1          2             3          1.00   \n",
       "1175      0              0     0          2             3          3.17   \n",
       "\n",
       "      total_charges_scaled  monthly_charges_scaled  tenure_months_scaled  \n",
       "855               0.023155               -0.439334             -0.510638  \n",
       "2823              0.009436                0.568928             -0.574468  \n",
       "5656              0.002297               -1.501015             -0.574468  \n",
       "1016              0.065764               -0.524469             -0.340426  \n",
       "1175              0.239044               -0.347522              0.212766  \n",
       "\n",
       "[5 rows x 25 columns]"
      ]
     },
     "execution_count": 12,
     "metadata": {},
     "output_type": "execute_result"
    }
   ],
   "source": [
    "# take a look at the scales columns added to the end\n",
    "train.head()"
   ]
  },
  {
   "cell_type": "markdown",
   "metadata": {},
   "source": [
    "2. Apply the .inverse_transform method to your scaled data. Is the resulting dataset the exact same as the original data?"
   ]
  },
  {
   "cell_type": "code",
   "execution_count": 18,
   "metadata": {},
   "outputs": [
    {
     "name": "stderr",
     "output_type": "stream",
     "text": [
      "/usr/local/anaconda3/lib/python3.7/site-packages/ipykernel_launcher.py:2: SettingWithCopyWarning: \n",
      "A value is trying to be set on a copy of a slice from a DataFrame.\n",
      "Try using .loc[row_indexer,col_indexer] = value instead\n",
      "\n",
      "See the caveats in the documentation: https://pandas.pydata.org/pandas-docs/stable/user_guide/indexing.html#returning-a-view-versus-a-copy\n",
      "  \n",
      "/usr/local/anaconda3/lib/python3.7/site-packages/ipykernel_launcher.py:4: SettingWithCopyWarning: \n",
      "A value is trying to be set on a copy of a slice from a DataFrame.\n",
      "Try using .loc[row_indexer,col_indexer] = value instead\n",
      "\n",
      "See the caveats in the documentation: https://pandas.pydata.org/pandas-docs/stable/user_guide/indexing.html#returning-a-view-versus-a-copy\n",
      "  after removing the cwd from sys.path.\n",
      "/usr/local/anaconda3/lib/python3.7/site-packages/ipykernel_launcher.py:5: SettingWithCopyWarning: \n",
      "A value is trying to be set on a copy of a slice from a DataFrame.\n",
      "Try using .loc[row_indexer,col_indexer] = value instead\n",
      "\n",
      "See the caveats in the documentation: https://pandas.pydata.org/pandas-docs/stable/user_guide/indexing.html#returning-a-view-versus-a-copy\n",
      "  \"\"\"\n",
      "/usr/local/anaconda3/lib/python3.7/site-packages/ipykernel_launcher.py:6: SettingWithCopyWarning: \n",
      "A value is trying to be set on a copy of a slice from a DataFrame.\n",
      "Try using .loc[row_indexer,col_indexer] = value instead\n",
      "\n",
      "See the caveats in the documentation: https://pandas.pydata.org/pandas-docs/stable/user_guide/indexing.html#returning-a-view-versus-a-copy\n",
      "  \n",
      "/usr/local/anaconda3/lib/python3.7/site-packages/ipykernel_launcher.py:8: SettingWithCopyWarning: \n",
      "A value is trying to be set on a copy of a slice from a DataFrame.\n",
      "Try using .loc[row_indexer,col_indexer] = value instead\n",
      "\n",
      "See the caveats in the documentation: https://pandas.pydata.org/pandas-docs/stable/user_guide/indexing.html#returning-a-view-versus-a-copy\n",
      "  \n",
      "/usr/local/anaconda3/lib/python3.7/site-packages/ipykernel_launcher.py:9: SettingWithCopyWarning: \n",
      "A value is trying to be set on a copy of a slice from a DataFrame.\n",
      "Try using .loc[row_indexer,col_indexer] = value instead\n",
      "\n",
      "See the caveats in the documentation: https://pandas.pydata.org/pandas-docs/stable/user_guide/indexing.html#returning-a-view-versus-a-copy\n",
      "  if __name__ == '__main__':\n",
      "/usr/local/anaconda3/lib/python3.7/site-packages/ipykernel_launcher.py:10: SettingWithCopyWarning: \n",
      "A value is trying to be set on a copy of a slice from a DataFrame.\n",
      "Try using .loc[row_indexer,col_indexer] = value instead\n",
      "\n",
      "See the caveats in the documentation: https://pandas.pydata.org/pandas-docs/stable/user_guide/indexing.html#returning-a-view-versus-a-copy\n",
      "  # Remove the CWD from sys.path while we load stuff.\n"
     ]
    },
    {
     "data": {
      "text/html": [
       "<div>\n",
       "<style scoped>\n",
       "    .dataframe tbody tr th:only-of-type {\n",
       "        vertical-align: middle;\n",
       "    }\n",
       "\n",
       "    .dataframe tbody tr th {\n",
       "        vertical-align: top;\n",
       "    }\n",
       "\n",
       "    .dataframe thead th {\n",
       "        text-align: right;\n",
       "    }\n",
       "</style>\n",
       "<table border=\"1\" class=\"dataframe\">\n",
       "  <thead>\n",
       "    <tr style=\"text-align: right;\">\n",
       "      <th></th>\n",
       "      <th>total_charges</th>\n",
       "      <th>total_charges_scaled</th>\n",
       "      <th>inverse_transform1</th>\n",
       "      <th>monthly_charges</th>\n",
       "      <th>monthly_charges_scaled</th>\n",
       "      <th>inverse_transform2</th>\n",
       "      <th>tenure_months</th>\n",
       "      <th>tenure_months_scaled</th>\n",
       "      <th>inverse_transform3</th>\n",
       "    </tr>\n",
       "  </thead>\n",
       "  <tbody>\n",
       "    <tr>\n",
       "      <th>855</th>\n",
       "      <td>201.10</td>\n",
       "      <td>0.023155</td>\n",
       "      <td>201.10</td>\n",
       "      <td>51.75</td>\n",
       "      <td>-0.439334</td>\n",
       "      <td>51.75</td>\n",
       "      <td>4</td>\n",
       "      <td>-0.510638</td>\n",
       "      <td>4.0</td>\n",
       "    </tr>\n",
       "    <tr>\n",
       "      <th>2823</th>\n",
       "      <td>81.95</td>\n",
       "      <td>0.009436</td>\n",
       "      <td>81.95</td>\n",
       "      <td>81.95</td>\n",
       "      <td>0.568928</td>\n",
       "      <td>81.95</td>\n",
       "      <td>1</td>\n",
       "      <td>-0.574468</td>\n",
       "      <td>1.0</td>\n",
       "    </tr>\n",
       "    <tr>\n",
       "      <th>5656</th>\n",
       "      <td>19.95</td>\n",
       "      <td>0.002297</td>\n",
       "      <td>19.95</td>\n",
       "      <td>19.95</td>\n",
       "      <td>-1.501015</td>\n",
       "      <td>19.95</td>\n",
       "      <td>1</td>\n",
       "      <td>-0.574468</td>\n",
       "      <td>1.0</td>\n",
       "    </tr>\n",
       "    <tr>\n",
       "      <th>1016</th>\n",
       "      <td>571.15</td>\n",
       "      <td>0.065764</td>\n",
       "      <td>571.15</td>\n",
       "      <td>49.20</td>\n",
       "      <td>-0.524469</td>\n",
       "      <td>49.20</td>\n",
       "      <td>12</td>\n",
       "      <td>-0.340426</td>\n",
       "      <td>12.0</td>\n",
       "    </tr>\n",
       "    <tr>\n",
       "      <th>1175</th>\n",
       "      <td>2076.05</td>\n",
       "      <td>0.239044</td>\n",
       "      <td>2076.05</td>\n",
       "      <td>54.50</td>\n",
       "      <td>-0.347522</td>\n",
       "      <td>54.50</td>\n",
       "      <td>38</td>\n",
       "      <td>0.212766</td>\n",
       "      <td>38.0</td>\n",
       "    </tr>\n",
       "  </tbody>\n",
       "</table>\n",
       "</div>"
      ],
      "text/plain": [
       "      total_charges  total_charges_scaled  inverse_transform1  \\\n",
       "855          201.10              0.023155              201.10   \n",
       "2823          81.95              0.009436               81.95   \n",
       "5656          19.95              0.002297               19.95   \n",
       "1016         571.15              0.065764              571.15   \n",
       "1175        2076.05              0.239044             2076.05   \n",
       "\n",
       "      monthly_charges  monthly_charges_scaled  inverse_transform2  \\\n",
       "855             51.75               -0.439334               51.75   \n",
       "2823            81.95                0.568928               81.95   \n",
       "5656            19.95               -1.501015               19.95   \n",
       "1016            49.20               -0.524469               49.20   \n",
       "1175            54.50               -0.347522               54.50   \n",
       "\n",
       "      tenure_months  tenure_months_scaled  inverse_transform3  \n",
       "855               4             -0.510638                 4.0  \n",
       "2823              1             -0.574468                 1.0  \n",
       "5656              1             -0.574468                 1.0  \n",
       "1016             12             -0.340426                12.0  \n",
       "1175             38              0.212766                38.0  "
      ]
     },
     "execution_count": 18,
     "metadata": {},
     "output_type": "execute_result"
    }
   ],
   "source": [
    "data_scales = train[['total_charges','total_charges_scaled']]\n",
    "data_scales['inverse_transform1'] = scaler1.inverse_transform(train[['total_charges_scaled']])\n",
    "\n",
    "data_scales['monthly_charges'] = train['monthly_charges']\n",
    "data_scales['monthly_charges_scaled'] = train['monthly_charges_scaled']\n",
    "data_scales['inverse_transform2'] = scaler2.inverse_transform(train[['monthly_charges_scaled']])\n",
    "\n",
    "data_scales['tenure_months'] = train['tenure_months']\n",
    "data_scales['tenure_months_scaled'] = train['tenure_months_scaled']\n",
    "data_scales['inverse_transform3'] = scaler3.inverse_transform(train[['tenure_months_scaled']])\n",
    "\n",
    "data_scales.head()"
   ]
  },
  {
   "cell_type": "markdown",
   "metadata": {},
   "source": [
    "### Scaled data that is inverse transformed matches the original data\n",
    "- months changed to decimal"
   ]
  },
  {
   "cell_type": "markdown",
   "metadata": {},
   "source": [
    "3. Read the documentation for sklearn's QuantileTransformer. Use normal for the output_distribution and apply this scaler to your data. Visualize the result of your data scaling."
   ]
  },
  {
   "cell_type": "code",
   "execution_count": null,
   "metadata": {},
   "outputs": [],
   "source": []
  },
  {
   "cell_type": "markdown",
   "metadata": {},
   "source": [
    "4. Use the QuantileTransformer, but omit the output_distribution argument. Visualize your results. What do you notice?"
   ]
  },
  {
   "cell_type": "code",
   "execution_count": null,
   "metadata": {},
   "outputs": [],
   "source": []
  },
  {
   "cell_type": "markdown",
   "metadata": {},
   "source": [
    "5. Based on the work you've done, choose a scaling method for your dataset. Write a function within your prepare.py that accepts as input the train, validate, and test data splits, and returns the scaled versions of each. Be sure to only learn the parameters for scaling from your training data!"
   ]
  },
  {
   "cell_type": "code",
   "execution_count": null,
   "metadata": {},
   "outputs": [],
   "source": []
  }
 ],
 "metadata": {
  "kernelspec": {
   "display_name": "Python 3",
   "language": "python",
   "name": "python3"
  },
  "language_info": {
   "codemirror_mode": {
    "name": "ipython",
    "version": 3
   },
   "file_extension": ".py",
   "mimetype": "text/x-python",
   "name": "python",
   "nbconvert_exporter": "python",
   "pygments_lexer": "ipython3",
   "version": "3.7.6"
  }
 },
 "nbformat": 4,
 "nbformat_minor": 4
}
